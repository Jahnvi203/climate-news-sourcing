{
 "cells": [
  {
   "cell_type": "markdown",
   "id": "04e02848",
   "metadata": {},
   "source": [
    "# Topic Modelling - LDA (Gensim)"
   ]
  },
  {
   "cell_type": "code",
   "execution_count": 1,
   "id": "ca6a931e",
   "metadata": {},
   "outputs": [
    {
     "name": "stdout",
     "output_type": "stream",
     "text": [
      "Requirement already satisfied: pytextrank in c:\\users\\user\\anaconda3\\lib\\site-packages (3.2.4)\n",
      "Requirement already satisfied: graphviz>=0.13 in c:\\users\\user\\anaconda3\\lib\\site-packages (from pytextrank) (0.20.1)\n",
      "Requirement already satisfied: scipy>=1.7 in c:\\users\\user\\anaconda3\\lib\\site-packages (from pytextrank) (1.10.0)\n",
      "Requirement already satisfied: spacy>=3.0 in c:\\users\\user\\anaconda3\\lib\\site-packages (from pytextrank) (3.5.1)\n",
      "Requirement already satisfied: pygments>=2.7.4 in c:\\users\\user\\anaconda3\\lib\\site-packages (from pytextrank) (2.14.0)\n",
      "Requirement already satisfied: networkx[default]>=2.6 in c:\\users\\user\\anaconda3\\lib\\site-packages (from pytextrank) (3.0)\n",
      "Requirement already satisfied: icecream>=2.1 in c:\\users\\user\\anaconda3\\lib\\site-packages (from pytextrank) (2.1.3)\n",
      "Requirement already satisfied: colorama>=0.3.9 in c:\\users\\user\\anaconda3\\lib\\site-packages (from icecream>=2.1->pytextrank) (0.4.6)\n",
      "Requirement already satisfied: executing>=0.3.1 in c:\\users\\user\\anaconda3\\lib\\site-packages (from icecream>=2.1->pytextrank) (1.2.0)\n",
      "Requirement already satisfied: asttokens>=2.0.1 in c:\\users\\user\\anaconda3\\lib\\site-packages (from icecream>=2.1->pytextrank) (2.2.1)\n",
      "Requirement already satisfied: numpy>=1.20 in c:\\users\\user\\anaconda3\\lib\\site-packages (from networkx[default]>=2.6->pytextrank) (1.23.5)\n",
      "Requirement already satisfied: matplotlib>=3.4 in c:\\users\\user\\anaconda3\\lib\\site-packages (from networkx[default]>=2.6->pytextrank) (3.7.1)\n",
      "Requirement already satisfied: pandas>=1.3 in c:\\users\\user\\anaconda3\\lib\\site-packages (from networkx[default]>=2.6->pytextrank) (1.5.2)\n",
      "Requirement already satisfied: spacy-loggers<2.0.0,>=1.0.0 in c:\\users\\user\\anaconda3\\lib\\site-packages (from spacy>=3.0->pytextrank) (1.0.4)\n",
      "Requirement already satisfied: cymem<2.1.0,>=2.0.2 in c:\\users\\user\\anaconda3\\lib\\site-packages (from spacy>=3.0->pytextrank) (2.0.7)\n",
      "Requirement already satisfied: requests<3.0.0,>=2.13.0 in c:\\users\\user\\anaconda3\\lib\\site-packages (from spacy>=3.0->pytextrank) (2.28.1)\n",
      "Requirement already satisfied: preshed<3.1.0,>=3.0.2 in c:\\users\\user\\anaconda3\\lib\\site-packages (from spacy>=3.0->pytextrank) (3.0.8)\n",
      "Requirement already satisfied: jinja2 in c:\\users\\user\\anaconda3\\lib\\site-packages (from spacy>=3.0->pytextrank) (3.1.2)\n",
      "Requirement already satisfied: packaging>=20.0 in c:\\users\\user\\anaconda3\\lib\\site-packages (from spacy>=3.0->pytextrank) (23.0)\n",
      "Requirement already satisfied: langcodes<4.0.0,>=3.2.0 in c:\\users\\user\\anaconda3\\lib\\site-packages (from spacy>=3.0->pytextrank) (3.3.0)\n",
      "Requirement already satisfied: spacy-legacy<3.1.0,>=3.0.11 in c:\\users\\user\\anaconda3\\lib\\site-packages (from spacy>=3.0->pytextrank) (3.0.12)\n",
      "Requirement already satisfied: srsly<3.0.0,>=2.4.3 in c:\\users\\user\\anaconda3\\lib\\site-packages (from spacy>=3.0->pytextrank) (2.4.5)\n",
      "Requirement already satisfied: typer<0.8.0,>=0.3.0 in c:\\users\\user\\anaconda3\\lib\\site-packages (from spacy>=3.0->pytextrank) (0.7.0)\n",
      "Requirement already satisfied: tqdm<5.0.0,>=4.38.0 in c:\\users\\user\\anaconda3\\lib\\site-packages (from spacy>=3.0->pytextrank) (4.65.0)\n",
      "Requirement already satisfied: pathy>=0.10.0 in c:\\users\\user\\anaconda3\\lib\\site-packages (from spacy>=3.0->pytextrank) (0.10.1)\n",
      "Requirement already satisfied: thinc<8.2.0,>=8.1.8 in c:\\users\\user\\anaconda3\\lib\\site-packages (from spacy>=3.0->pytextrank) (8.1.9)\n",
      "Requirement already satisfied: setuptools in c:\\users\\user\\anaconda3\\lib\\site-packages (from spacy>=3.0->pytextrank) (65.6.3)\n",
      "Requirement already satisfied: catalogue<2.1.0,>=2.0.6 in c:\\users\\user\\anaconda3\\lib\\site-packages (from spacy>=3.0->pytextrank) (2.0.8)\n",
      "Requirement already satisfied: wasabi<1.2.0,>=0.9.1 in c:\\users\\user\\anaconda3\\lib\\site-packages (from spacy>=3.0->pytextrank) (1.1.1)\n",
      "Requirement already satisfied: murmurhash<1.1.0,>=0.28.0 in c:\\users\\user\\anaconda3\\lib\\site-packages (from spacy>=3.0->pytextrank) (1.0.9)\n",
      "Requirement already satisfied: pydantic!=1.8,!=1.8.1,<1.11.0,>=1.7.4 in c:\\users\\user\\anaconda3\\lib\\site-packages (from spacy>=3.0->pytextrank) (1.10.5)\n",
      "Requirement already satisfied: smart-open<7.0.0,>=5.2.1 in c:\\users\\user\\anaconda3\\lib\\site-packages (from spacy>=3.0->pytextrank) (6.3.0)\n",
      "Requirement already satisfied: six in c:\\users\\user\\anaconda3\\lib\\site-packages (from asttokens>=2.0.1->icecream>=2.1->pytextrank) (1.16.0)\n",
      "Requirement already satisfied: pillow>=6.2.0 in c:\\users\\user\\anaconda3\\lib\\site-packages (from matplotlib>=3.4->networkx[default]>=2.6->pytextrank) (9.4.0)\n",
      "Requirement already satisfied: fonttools>=4.22.0 in c:\\users\\user\\anaconda3\\lib\\site-packages (from matplotlib>=3.4->networkx[default]>=2.6->pytextrank) (4.38.0)\n",
      "Requirement already satisfied: importlib-resources>=3.2.0 in c:\\users\\user\\anaconda3\\lib\\site-packages (from matplotlib>=3.4->networkx[default]>=2.6->pytextrank) (5.12.0)\n",
      "Requirement already satisfied: contourpy>=1.0.1 in c:\\users\\user\\anaconda3\\lib\\site-packages (from matplotlib>=3.4->networkx[default]>=2.6->pytextrank) (1.0.7)\n",
      "Requirement already satisfied: cycler>=0.10 in c:\\users\\user\\anaconda3\\lib\\site-packages (from matplotlib>=3.4->networkx[default]>=2.6->pytextrank) (0.11.0)\n",
      "Requirement already satisfied: kiwisolver>=1.0.1 in c:\\users\\user\\anaconda3\\lib\\site-packages (from matplotlib>=3.4->networkx[default]>=2.6->pytextrank) (1.4.4)\n",
      "Requirement already satisfied: pyparsing>=2.3.1 in c:\\users\\user\\anaconda3\\lib\\site-packages (from matplotlib>=3.4->networkx[default]>=2.6->pytextrank) (3.0.9)\n",
      "Requirement already satisfied: python-dateutil>=2.7 in c:\\users\\user\\anaconda3\\lib\\site-packages (from matplotlib>=3.4->networkx[default]>=2.6->pytextrank) (2.8.2)\n",
      "Requirement already satisfied: pytz>=2020.1 in c:\\users\\user\\anaconda3\\lib\\site-packages (from pandas>=1.3->networkx[default]>=2.6->pytextrank) (2022.7)\n",
      "Requirement already satisfied: typing-extensions>=4.2.0 in c:\\users\\user\\anaconda3\\lib\\site-packages (from pydantic!=1.8,!=1.8.1,<1.11.0,>=1.7.4->spacy>=3.0->pytextrank) (4.5.0)\n",
      "Requirement already satisfied: certifi>=2017.4.17 in c:\\users\\user\\anaconda3\\lib\\site-packages (from requests<3.0.0,>=2.13.0->spacy>=3.0->pytextrank) (2022.12.7)\n",
      "Requirement already satisfied: urllib3<1.27,>=1.21.1 in c:\\users\\user\\anaconda3\\lib\\site-packages (from requests<3.0.0,>=2.13.0->spacy>=3.0->pytextrank) (1.26.14)\n",
      "Requirement already satisfied: idna<4,>=2.5 in c:\\users\\user\\anaconda3\\lib\\site-packages (from requests<3.0.0,>=2.13.0->spacy>=3.0->pytextrank) (3.4)\n",
      "Requirement already satisfied: charset-normalizer<3,>=2 in c:\\users\\user\\anaconda3\\lib\\site-packages (from requests<3.0.0,>=2.13.0->spacy>=3.0->pytextrank) (2.0.4)\n",
      "Requirement already satisfied: blis<0.8.0,>=0.7.8 in c:\\users\\user\\anaconda3\\lib\\site-packages (from thinc<8.2.0,>=8.1.8->spacy>=3.0->pytextrank) (0.7.9)\n",
      "Requirement already satisfied: confection<1.0.0,>=0.0.1 in c:\\users\\user\\anaconda3\\lib\\site-packages (from thinc<8.2.0,>=8.1.8->spacy>=3.0->pytextrank) (0.0.4)\n",
      "Requirement already satisfied: click<9.0.0,>=7.1.1 in c:\\users\\user\\anaconda3\\lib\\site-packages (from typer<0.8.0,>=0.3.0->spacy>=3.0->pytextrank) (8.0.4)\n",
      "Requirement already satisfied: MarkupSafe>=2.0 in c:\\users\\user\\anaconda3\\lib\\site-packages (from jinja2->spacy>=3.0->pytextrank) (2.1.1)\n",
      "Requirement already satisfied: zipp>=3.1.0 in c:\\users\\user\\anaconda3\\lib\\site-packages (from importlib-resources>=3.2.0->matplotlib>=3.4->networkx[default]>=2.6->pytextrank) (3.11.0)\n"
     ]
    },
    {
     "name": "stderr",
     "output_type": "stream",
     "text": [
      "WARNING: Ignoring invalid distribution -rotobuf (c:\\users\\user\\anaconda3\\lib\\site-packages)\n",
      "WARNING: Ignoring invalid distribution - (c:\\users\\user\\anaconda3\\lib\\site-packages)\n",
      "WARNING: Ignoring invalid distribution -ensorflow-intel (c:\\users\\user\\anaconda3\\lib\\site-packages)\n",
      "WARNING: Ignoring invalid distribution -rotobuf (c:\\users\\user\\anaconda3\\lib\\site-packages)\n",
      "WARNING: Ignoring invalid distribution - (c:\\users\\user\\anaconda3\\lib\\site-packages)\n",
      "WARNING: Ignoring invalid distribution -ensorflow-intel (c:\\users\\user\\anaconda3\\lib\\site-packages)\n",
      "WARNING: Ignoring invalid distribution -rotobuf (c:\\users\\user\\anaconda3\\lib\\site-packages)\n",
      "WARNING: Ignoring invalid distribution - (c:\\users\\user\\anaconda3\\lib\\site-packages)\n",
      "WARNING: Ignoring invalid distribution -ensorflow-intel (c:\\users\\user\\anaconda3\\lib\\site-packages)\n",
      "WARNING: Ignoring invalid distribution -rotobuf (c:\\users\\user\\anaconda3\\lib\\site-packages)\n",
      "WARNING: Ignoring invalid distribution - (c:\\users\\user\\anaconda3\\lib\\site-packages)\n",
      "WARNING: Ignoring invalid distribution -ensorflow-intel (c:\\users\\user\\anaconda3\\lib\\site-packages)\n",
      "WARNING: Ignoring invalid distribution -rotobuf (c:\\users\\user\\anaconda3\\lib\\site-packages)\n",
      "WARNING: Ignoring invalid distribution - (c:\\users\\user\\anaconda3\\lib\\site-packages)\n",
      "WARNING: Ignoring invalid distribution -ensorflow-intel (c:\\users\\user\\anaconda3\\lib\\site-packages)\n",
      "WARNING: Ignoring invalid distribution -rotobuf (c:\\users\\user\\anaconda3\\lib\\site-packages)\n",
      "WARNING: Ignoring invalid distribution - (c:\\users\\user\\anaconda3\\lib\\site-packages)\n",
      "WARNING: Ignoring invalid distribution -ensorflow-intel (c:\\users\\user\\anaconda3\\lib\\site-packages)\n",
      "WARNING: Ignoring invalid distribution -rotobuf (c:\\users\\user\\anaconda3\\lib\\site-packages)\n",
      "WARNING: Ignoring invalid distribution - (c:\\users\\user\\anaconda3\\lib\\site-packages)\n",
      "WARNING: Ignoring invalid distribution -ensorflow-intel (c:\\users\\user\\anaconda3\\lib\\site-packages)\n",
      "WARNING: Ignoring invalid distribution -rotobuf (c:\\users\\user\\anaconda3\\lib\\site-packages)\n",
      "WARNING: Ignoring invalid distribution - (c:\\users\\user\\anaconda3\\lib\\site-packages)\n",
      "WARNING: Ignoring invalid distribution -ensorflow-intel (c:\\users\\user\\anaconda3\\lib\\site-packages)\n",
      "WARNING: Ignoring invalid distribution -rotobuf (c:\\users\\user\\anaconda3\\lib\\site-packages)\n",
      "WARNING: Ignoring invalid distribution - (c:\\users\\user\\anaconda3\\lib\\site-packages)\n",
      "WARNING: Ignoring invalid distribution -ensorflow-intel (c:\\users\\user\\anaconda3\\lib\\site-packages)\n",
      "WARNING: Ignoring invalid distribution -rotobuf (c:\\users\\user\\anaconda3\\lib\\site-packages)\n",
      "WARNING: Ignoring invalid distribution - (c:\\users\\user\\anaconda3\\lib\\site-packages)\n",
      "WARNING: Ignoring invalid distribution -ensorflow-intel (c:\\users\\user\\anaconda3\\lib\\site-packages)\n",
      "WARNING: Ignoring invalid distribution -rotobuf (c:\\users\\user\\anaconda3\\lib\\site-packages)\n",
      "WARNING: Ignoring invalid distribution - (c:\\users\\user\\anaconda3\\lib\\site-packages)\n",
      "WARNING: Ignoring invalid distribution -ensorflow-intel (c:\\users\\user\\anaconda3\\lib\\site-packages)\n",
      "WARNING: Ignoring invalid distribution -rotobuf (c:\\users\\user\\anaconda3\\lib\\site-packages)\n",
      "WARNING: Ignoring invalid distribution - (c:\\users\\user\\anaconda3\\lib\\site-packages)\n",
      "WARNING: Ignoring invalid distribution -ensorflow-intel (c:\\users\\user\\anaconda3\\lib\\site-packages)\n",
      "[nltk_data] Downloading package stopwords to\n",
      "[nltk_data]     C:\\Users\\User\\AppData\\Roaming\\nltk_data...\n",
      "[nltk_data]   Package stopwords is already up-to-date!\n",
      "[nltk_data] Downloading package wordnet to\n",
      "[nltk_data]     C:\\Users\\User\\AppData\\Roaming\\nltk_data...\n",
      "[nltk_data]   Package wordnet is already up-to-date!\n",
      "[nltk_data] Downloading package omw-1.4 to\n",
      "[nltk_data]     C:\\Users\\User\\AppData\\Roaming\\nltk_data...\n"
     ]
    },
    {
     "name": "stdout",
     "output_type": "stream",
     "text": [
      "Requirement already satisfied: pyLDAvis in c:\\users\\user\\anaconda3\\lib\\site-packages (3.3.1)\n",
      "Requirement already satisfied: setuptools in c:\\users\\user\\anaconda3\\lib\\site-packages (from pyLDAvis) (65.6.3)\n",
      "Requirement already satisfied: numpy>=1.20.0 in c:\\users\\user\\anaconda3\\lib\\site-packages (from pyLDAvis) (1.23.5)\n",
      "Requirement already satisfied: scikit-learn in c:\\users\\user\\anaconda3\\lib\\site-packages (from pyLDAvis) (1.2.0)\n",
      "Requirement already satisfied: scipy in c:\\users\\user\\anaconda3\\lib\\site-packages (from pyLDAvis) (1.10.0)\n",
      "Requirement already satisfied: sklearn in c:\\users\\user\\anaconda3\\lib\\site-packages (from pyLDAvis) (0.0.post1)\n",
      "Requirement already satisfied: funcy in c:\\users\\user\\anaconda3\\lib\\site-packages (from pyLDAvis) (1.17)\n",
      "Requirement already satisfied: numexpr in c:\\users\\user\\anaconda3\\lib\\site-packages (from pyLDAvis) (2.8.4)\n",
      "Requirement already satisfied: pandas>=1.2.0 in c:\\users\\user\\anaconda3\\lib\\site-packages (from pyLDAvis) (1.5.2)\n",
      "Requirement already satisfied: jinja2 in c:\\users\\user\\anaconda3\\lib\\site-packages (from pyLDAvis) (3.1.2)\n",
      "Requirement already satisfied: joblib in c:\\users\\user\\anaconda3\\lib\\site-packages (from pyLDAvis) (1.1.1)\n",
      "Requirement already satisfied: gensim in c:\\users\\user\\anaconda3\\lib\\site-packages (from pyLDAvis) (4.3.1)\n",
      "Requirement already satisfied: future in c:\\users\\user\\anaconda3\\lib\\site-packages (from pyLDAvis) (0.18.3)\n",
      "Requirement already satisfied: python-dateutil>=2.8.1 in c:\\users\\user\\anaconda3\\lib\\site-packages (from pandas>=1.2.0->pyLDAvis) (2.8.2)\n",
      "Requirement already satisfied: pytz>=2020.1 in c:\\users\\user\\anaconda3\\lib\\site-packages (from pandas>=1.2.0->pyLDAvis) (2022.7)\n",
      "Requirement already satisfied: smart-open>=1.8.1 in c:\\users\\user\\anaconda3\\lib\\site-packages (from gensim->pyLDAvis) (6.3.0)\n",
      "Requirement already satisfied: MarkupSafe>=2.0 in c:\\users\\user\\anaconda3\\lib\\site-packages (from jinja2->pyLDAvis) (2.1.1)\n",
      "Requirement already satisfied: threadpoolctl>=2.0.0 in c:\\users\\user\\anaconda3\\lib\\site-packages (from scikit-learn->pyLDAvis) (2.2.0)\n",
      "Requirement already satisfied: six>=1.5 in c:\\users\\user\\anaconda3\\lib\\site-packages (from python-dateutil>=2.8.1->pandas>=1.2.0->pyLDAvis) (1.16.0)\n"
     ]
    },
    {
     "name": "stderr",
     "output_type": "stream",
     "text": [
      "[nltk_data]   Package omw-1.4 is already up-to-date!\n"
     ]
    },
    {
     "name": "stdout",
     "output_type": "stream",
     "text": [
      "Collecting en-core-web-md==3.5.0\n",
      "  Downloading https://github.com/explosion/spacy-models/releases/download/en_core_web_md-3.5.0/en_core_web_md-3.5.0-py3-none-any.whl (42.8 MB)\n",
      "     ---------------------------------------- 0.0/42.8 MB ? eta -:--:--\n",
      "     -- ------------------------------------- 2.3/42.8 MB 48.1 MB/s eta 0:00:01\n",
      "     --- ------------------------------------ 3.9/42.8 MB 41.5 MB/s eta 0:00:01\n",
      "     ----- ---------------------------------- 5.6/42.8 MB 39.4 MB/s eta 0:00:01\n",
      "     ------ --------------------------------- 6.7/42.8 MB 35.7 MB/s eta 0:00:02\n",
      "     -------- ------------------------------- 8.8/42.8 MB 37.4 MB/s eta 0:00:01\n",
      "     --------- ----------------------------- 10.4/42.8 MB 38.5 MB/s eta 0:00:01\n",
      "     ---------- ---------------------------- 11.6/42.8 MB 34.4 MB/s eta 0:00:01\n",
      "     ----------- --------------------------- 13.1/42.8 MB 34.6 MB/s eta 0:00:01\n",
      "     ------------- ------------------------- 14.5/42.8 MB 31.2 MB/s eta 0:00:01\n",
      "     --------------- ----------------------- 16.9/42.8 MB 36.4 MB/s eta 0:00:01\n",
      "     ---------------- ---------------------- 18.5/42.8 MB 34.4 MB/s eta 0:00:01\n",
      "     ------------------ -------------------- 20.1/42.8 MB 36.4 MB/s eta 0:00:01\n",
      "     ------------------- ------------------- 21.8/42.8 MB 34.6 MB/s eta 0:00:01\n",
      "     --------------------- ----------------- 23.4/42.8 MB 38.6 MB/s eta 0:00:01\n",
      "     ---------------------- ---------------- 25.1/42.8 MB 36.4 MB/s eta 0:00:01\n",
      "     ------------------------ -------------- 26.7/42.8 MB 34.4 MB/s eta 0:00:01\n",
      "     ------------------------- ------------- 28.3/42.8 MB 36.4 MB/s eta 0:00:01\n",
      "     --------------------------- ----------- 30.0/42.8 MB 34.4 MB/s eta 0:00:01\n",
      "     ---------------------------- ---------- 31.7/42.8 MB 34.4 MB/s eta 0:00:01\n",
      "     ------------------------------ -------- 33.3/42.8 MB 34.4 MB/s eta 0:00:01\n",
      "     ------------------------------- ------- 34.9/42.8 MB 34.6 MB/s eta 0:00:01\n",
      "     --------------------------------- ----- 36.6/42.8 MB 34.4 MB/s eta 0:00:01\n",
      "     ---------------------------------- ---- 38.2/42.8 MB 34.4 MB/s eta 0:00:01\n",
      "     ------------------------------------ -- 39.8/42.8 MB 34.4 MB/s eta 0:00:01\n",
      "     ------------------------------------- - 41.4/42.8 MB 34.4 MB/s eta 0:00:01\n",
      "     --------------------------------------  42.8/42.8 MB 34.4 MB/s eta 0:00:01\n",
      "     --------------------------------------  42.8/42.8 MB 34.4 MB/s eta 0:00:01\n",
      "     --------------------------------------- 42.8/42.8 MB 23.3 MB/s eta 0:00:00\n",
      "Requirement already satisfied: spacy<3.6.0,>=3.5.0 in c:\\users\\user\\anaconda3\\lib\\site-packages (from en-core-web-md==3.5.0) (3.5.1)\n",
      "Requirement already satisfied: spacy-loggers<2.0.0,>=1.0.0 in c:\\users\\user\\anaconda3\\lib\\site-packages (from spacy<3.6.0,>=3.5.0->en-core-web-md==3.5.0) (1.0.4)\n",
      "Requirement already satisfied: cymem<2.1.0,>=2.0.2 in c:\\users\\user\\anaconda3\\lib\\site-packages (from spacy<3.6.0,>=3.5.0->en-core-web-md==3.5.0) (2.0.7)\n",
      "Requirement already satisfied: murmurhash<1.1.0,>=0.28.0 in c:\\users\\user\\anaconda3\\lib\\site-packages (from spacy<3.6.0,>=3.5.0->en-core-web-md==3.5.0) (1.0.9)\n",
      "Requirement already satisfied: requests<3.0.0,>=2.13.0 in c:\\users\\user\\anaconda3\\lib\\site-packages (from spacy<3.6.0,>=3.5.0->en-core-web-md==3.5.0) (2.28.1)\n",
      "Requirement already satisfied: setuptools in c:\\users\\user\\anaconda3\\lib\\site-packages (from spacy<3.6.0,>=3.5.0->en-core-web-md==3.5.0) (65.6.3)\n",
      "Requirement already satisfied: smart-open<7.0.0,>=5.2.1 in c:\\users\\user\\anaconda3\\lib\\site-packages (from spacy<3.6.0,>=3.5.0->en-core-web-md==3.5.0) (6.3.0)\n",
      "Requirement already satisfied: catalogue<2.1.0,>=2.0.6 in c:\\users\\user\\anaconda3\\lib\\site-packages (from spacy<3.6.0,>=3.5.0->en-core-web-md==3.5.0) (2.0.8)\n",
      "Requirement already satisfied: preshed<3.1.0,>=3.0.2 in c:\\users\\user\\anaconda3\\lib\\site-packages (from spacy<3.6.0,>=3.5.0->en-core-web-md==3.5.0) (3.0.8)\n",
      "Requirement already satisfied: tqdm<5.0.0,>=4.38.0 in c:\\users\\user\\anaconda3\\lib\\site-packages (from spacy<3.6.0,>=3.5.0->en-core-web-md==3.5.0) (4.65.0)\n",
      "Requirement already satisfied: thinc<8.2.0,>=8.1.8 in c:\\users\\user\\anaconda3\\lib\\site-packages (from spacy<3.6.0,>=3.5.0->en-core-web-md==3.5.0) (8.1.9)\n",
      "Requirement already satisfied: pydantic!=1.8,!=1.8.1,<1.11.0,>=1.7.4 in c:\\users\\user\\anaconda3\\lib\\site-packages (from spacy<3.6.0,>=3.5.0->en-core-web-md==3.5.0) (1.10.5)\n",
      "Requirement already satisfied: jinja2 in c:\\users\\user\\anaconda3\\lib\\site-packages (from spacy<3.6.0,>=3.5.0->en-core-web-md==3.5.0) (3.1.2)\n",
      "Requirement already satisfied: typer<0.8.0,>=0.3.0 in c:\\users\\user\\anaconda3\\lib\\site-packages (from spacy<3.6.0,>=3.5.0->en-core-web-md==3.5.0) (0.7.0)\n",
      "Requirement already satisfied: pathy>=0.10.0 in c:\\users\\user\\anaconda3\\lib\\site-packages (from spacy<3.6.0,>=3.5.0->en-core-web-md==3.5.0) (0.10.1)\n",
      "Requirement already satisfied: packaging>=20.0 in c:\\users\\user\\anaconda3\\lib\\site-packages (from spacy<3.6.0,>=3.5.0->en-core-web-md==3.5.0) (23.0)\n",
      "Requirement already satisfied: numpy>=1.15.0 in c:\\users\\user\\anaconda3\\lib\\site-packages (from spacy<3.6.0,>=3.5.0->en-core-web-md==3.5.0) (1.23.5)\n",
      "Requirement already satisfied: langcodes<4.0.0,>=3.2.0 in c:\\users\\user\\anaconda3\\lib\\site-packages (from spacy<3.6.0,>=3.5.0->en-core-web-md==3.5.0) (3.3.0)\n",
      "Requirement already satisfied: spacy-legacy<3.1.0,>=3.0.11 in c:\\users\\user\\anaconda3\\lib\\site-packages (from spacy<3.6.0,>=3.5.0->en-core-web-md==3.5.0) (3.0.12)\n",
      "Requirement already satisfied: wasabi<1.2.0,>=0.9.1 in c:\\users\\user\\anaconda3\\lib\\site-packages (from spacy<3.6.0,>=3.5.0->en-core-web-md==3.5.0) (1.1.1)\n",
      "Requirement already satisfied: srsly<3.0.0,>=2.4.3 in c:\\users\\user\\anaconda3\\lib\\site-packages (from spacy<3.6.0,>=3.5.0->en-core-web-md==3.5.0) (2.4.5)\n",
      "Requirement already satisfied: typing-extensions>=4.2.0 in c:\\users\\user\\anaconda3\\lib\\site-packages (from pydantic!=1.8,!=1.8.1,<1.11.0,>=1.7.4->spacy<3.6.0,>=3.5.0->en-core-web-md==3.5.0) (4.5.0)\n",
      "Requirement already satisfied: charset-normalizer<3,>=2 in c:\\users\\user\\anaconda3\\lib\\site-packages (from requests<3.0.0,>=2.13.0->spacy<3.6.0,>=3.5.0->en-core-web-md==3.5.0) (2.0.4)\n",
      "Requirement already satisfied: idna<4,>=2.5 in c:\\users\\user\\anaconda3\\lib\\site-packages (from requests<3.0.0,>=2.13.0->spacy<3.6.0,>=3.5.0->en-core-web-md==3.5.0) (3.4)\n",
      "Requirement already satisfied: certifi>=2017.4.17 in c:\\users\\user\\anaconda3\\lib\\site-packages (from requests<3.0.0,>=2.13.0->spacy<3.6.0,>=3.5.0->en-core-web-md==3.5.0) (2022.12.7)\n",
      "Requirement already satisfied: urllib3<1.27,>=1.21.1 in c:\\users\\user\\anaconda3\\lib\\site-packages (from requests<3.0.0,>=2.13.0->spacy<3.6.0,>=3.5.0->en-core-web-md==3.5.0) (1.26.14)\n",
      "Requirement already satisfied: confection<1.0.0,>=0.0.1 in c:\\users\\user\\anaconda3\\lib\\site-packages (from thinc<8.2.0,>=8.1.8->spacy<3.6.0,>=3.5.0->en-core-web-md==3.5.0) (0.0.4)\n",
      "Requirement already satisfied: blis<0.8.0,>=0.7.8 in c:\\users\\user\\anaconda3\\lib\\site-packages (from thinc<8.2.0,>=8.1.8->spacy<3.6.0,>=3.5.0->en-core-web-md==3.5.0) (0.7.9)\n",
      "Requirement already satisfied: colorama in c:\\users\\user\\anaconda3\\lib\\site-packages (from tqdm<5.0.0,>=4.38.0->spacy<3.6.0,>=3.5.0->en-core-web-md==3.5.0) (0.4.6)\n",
      "Requirement already satisfied: click<9.0.0,>=7.1.1 in c:\\users\\user\\anaconda3\\lib\\site-packages (from typer<0.8.0,>=0.3.0->spacy<3.6.0,>=3.5.0->en-core-web-md==3.5.0) (8.0.4)\n",
      "Requirement already satisfied: MarkupSafe>=2.0 in c:\\users\\user\\anaconda3\\lib\\site-packages (from jinja2->spacy<3.6.0,>=3.5.0->en-core-web-md==3.5.0) (2.1.1)\n",
      "\u001b[38;5;2m[+] Download and installation successful\u001b[0m\n",
      "You can now load the package via spacy.load('en_core_web_md')\n"
     ]
    },
    {
     "name": "stderr",
     "output_type": "stream",
     "text": [
      "WARNING: Ignoring invalid distribution -rotobuf (c:\\users\\user\\anaconda3\\lib\\site-packages)\n",
      "WARNING: Ignoring invalid distribution - (c:\\users\\user\\anaconda3\\lib\\site-packages)\n",
      "WARNING: Ignoring invalid distribution -ensorflow-intel (c:\\users\\user\\anaconda3\\lib\\site-packages)\n",
      "WARNING: Ignoring invalid distribution -rotobuf (c:\\users\\user\\anaconda3\\lib\\site-packages)\n",
      "WARNING: Ignoring invalid distribution - (c:\\users\\user\\anaconda3\\lib\\site-packages)\n",
      "WARNING: Ignoring invalid distribution -ensorflow-intel (c:\\users\\user\\anaconda3\\lib\\site-packages)\n",
      "WARNING: Ignoring invalid distribution -rotobuf (c:\\users\\user\\anaconda3\\lib\\site-packages)\n",
      "WARNING: Ignoring invalid distribution - (c:\\users\\user\\anaconda3\\lib\\site-packages)\n",
      "WARNING: Ignoring invalid distribution -ensorflow-intel (c:\\users\\user\\anaconda3\\lib\\site-packages)\n",
      "WARNING: Ignoring invalid distribution -rotobuf (c:\\users\\user\\anaconda3\\lib\\site-packages)\n",
      "WARNING: Ignoring invalid distribution - (c:\\users\\user\\anaconda3\\lib\\site-packages)\n",
      "WARNING: Ignoring invalid distribution -ensorflow-intel (c:\\users\\user\\anaconda3\\lib\\site-packages)\n",
      "WARNING: Ignoring invalid distribution -rotobuf (c:\\users\\user\\anaconda3\\lib\\site-packages)\n",
      "WARNING: Ignoring invalid distribution - (c:\\users\\user\\anaconda3\\lib\\site-packages)\n",
      "WARNING: Ignoring invalid distribution -ensorflow-intel (c:\\users\\user\\anaconda3\\lib\\site-packages)\n",
      "WARNING: Ignoring invalid distribution -rotobuf (c:\\users\\user\\anaconda3\\lib\\site-packages)\n",
      "WARNING: Ignoring invalid distribution - (c:\\users\\user\\anaconda3\\lib\\site-packages)\n",
      "WARNING: Ignoring invalid distribution -ensorflow-intel (c:\\users\\user\\anaconda3\\lib\\site-packages)\n"
     ]
    }
   ],
   "source": [
    "# Run this cell to install required dependencies\n",
    "!pip install pytextrank\n",
    "!pip install pyLDAvis\n",
    "!pip install gensim\n",
    "nltk.download('stopwords')\n",
    "nltk.download('wordnet')\n",
    "nltk.download('omw-1.4')\n",
    "!python -m spacy download en_core_web_md "
   ]
  },
  {
   "cell_type": "code",
   "execution_count": 2,
   "id": "a55544ee",
   "metadata": {},
   "outputs": [],
   "source": [
    "# Import required libraries\n",
    "import pandas as pd\n",
    "import json\n",
    "import re\n",
    "import pandas as pd\n",
    "import numpy as np\n",
    "import nltk\n",
    "import spacy\n",
    "import re\n",
    "import time\n",
    "from bs4 import BeautifulSoup\n",
    "\n",
    "import gensim\n",
    "# supporting function\n",
    "from gensim.models import CoherenceModel\n",
    "\n",
    "\n",
    "# Plotting tools\n",
    "import pyLDAvis\n",
    "import pyLDAvis.gensim_models \n",
    "import matplotlib.pyplot as plt\n",
    "%matplotlib inline\n",
    "\n",
    "import nltk                      \n",
    "from nltk.corpus import stopwords\n",
    "from nltk.stem import WordNetLemmatizer\n",
    "lemmatizer = WordNetLemmatizer()\n",
    "\n",
    "nlp = spacy.load('en_core_web_md')\n",
    "stops = stopwords.words('english')\n",
    "newStopWords = ['report', 'reports', 'even', 'still', 'like', 'say', 'says', 'said', 'global', 'time', 'government', 'warmer', 'warming', 'warm' 'people', 'countries', 'years', 'country', 'year', 'event', 'scientist', 'heat', 'study', 'climate', 'change', 'emission', 'emissions','said', 'world', 'yearly', 'say', 'would','could','also']\n",
    "stops.extend(newStopWords)"
   ]
  },
  {
   "cell_type": "markdown",
   "id": "bfcfecc2",
   "metadata": {},
   "source": [
    "# Load Pre-trained Model (if it has already been trained)"
   ]
  },
  {
   "cell_type": "code",
   "execution_count": 3,
   "id": "160d1609",
   "metadata": {},
   "outputs": [],
   "source": [
    "lda_model=gensim.models.ldamodel.LdaModel.load(\"climate_lda.gensim\")"
   ]
  },
  {
   "cell_type": "markdown",
   "id": "0116c478",
   "metadata": {},
   "source": [
    "# Preprocessing"
   ]
  },
  {
   "cell_type": "code",
   "execution_count": 4,
   "id": "4abd859f",
   "metadata": {},
   "outputs": [],
   "source": [
    "# Helper functions to preprocess and lemmatize\n",
    "\n",
    "def basic_preprocess(self_text):\n",
    "    \n",
    "     # 1. Remove html tags\n",
    "    words = BeautifulSoup(self_text).get_text()\n",
    "    # 2. Convert words to lower case and split each word up\n",
    "    words = self_text.lower()\n",
    "    # 3. Remove non-letters aka punctuation\n",
    "    words = re.sub(\"[^a-zA-Z]\", \" \", words).split()    \n",
    "    \n",
    "    # 4 Remove stopwords and words with less than 3 characters\n",
    "    words = [word for word in words if word not in stops and len(word) > 3]\n",
    "    \n",
    "    # 5 LEMMATIZE\n",
    "    words = [lemmatizer.lemmatize(w) for w in words]\n",
    "    # 6. Return words\n",
    "    return words\n",
    "\n",
    "\n"
   ]
  },
  {
   "cell_type": "markdown",
   "id": "cd68d1a9",
   "metadata": {},
   "source": [
    "# Bigram/Trigram Phrase Model Functions"
   ]
  },
  {
   "cell_type": "code",
   "execution_count": 5,
   "id": "2289d564",
   "metadata": {},
   "outputs": [],
   "source": [
    "def make_bigrams(texts):\n",
    "        return [bigram_mod[doc] for doc in texts]\n",
    "\n",
    "def make_trigrams(texts):\n",
    "        return [trigram_mod[bigram_mod[doc]] for doc in texts]"
   ]
  },
  {
   "cell_type": "markdown",
   "id": "e488874c",
   "metadata": {},
   "source": [
    "# Read data into Dataframe"
   ]
  },
  {
   "cell_type": "code",
   "execution_count": 6,
   "id": "7843e133",
   "metadata": {},
   "outputs": [],
   "source": [
    "articles = pd.read_csv(\"news_articles.csv\", encoding=\"utf8\")"
   ]
  },
  {
   "cell_type": "code",
   "execution_count": 7,
   "id": "7b021fcf",
   "metadata": {},
   "outputs": [],
   "source": [
    "news_articles_df = pd.DataFrame(articles)"
   ]
  },
  {
   "cell_type": "code",
   "execution_count": 8,
   "id": "0fb9626b",
   "metadata": {},
   "outputs": [
    {
     "data": {
      "text/html": [
       "<div>\n",
       "<style scoped>\n",
       "    .dataframe tbody tr th:only-of-type {\n",
       "        vertical-align: middle;\n",
       "    }\n",
       "\n",
       "    .dataframe tbody tr th {\n",
       "        vertical-align: top;\n",
       "    }\n",
       "\n",
       "    .dataframe thead th {\n",
       "        text-align: right;\n",
       "    }\n",
       "</style>\n",
       "<table border=\"1\" class=\"dataframe\">\n",
       "  <thead>\n",
       "    <tr style=\"text-align: right;\">\n",
       "      <th></th>\n",
       "      <th>id</th>\n",
       "      <th>body</th>\n",
       "      <th>headline</th>\n",
       "      <th>article_name</th>\n",
       "      <th>article_url</th>\n",
       "      <th>date_published</th>\n",
       "      <th>article_length</th>\n",
       "      <th>date_uploaded</th>\n",
       "      <th>article_start_url</th>\n",
       "      <th>source</th>\n",
       "    </tr>\n",
       "  </thead>\n",
       "  <tbody>\n",
       "    <tr>\n",
       "      <th>0</th>\n",
       "      <td>NaN</td>\n",
       "      <td>, San Francisco This video can not be played G...</td>\n",
       "      <td>Climate change: Greenland ice melt 'is acceler...</td>\n",
       "      <td>science-environment-48387030</td>\n",
       "      <td>https://www.bbc.com/news/science-environment-4...</td>\n",
       "      <td>10/12/2019 16:03</td>\n",
       "      <td>5963</td>\n",
       "      <td>2022-04-18T03:39:35.914119</td>\n",
       "      <td>NaN</td>\n",
       "      <td>bbc</td>\n",
       "    </tr>\n",
       "    <tr>\n",
       "      <th>1</th>\n",
       "      <td>NaN</td>\n",
       "      <td>North Atlantic hurricanes are retaining far mo...</td>\n",
       "      <td>Climate change: Hurricanes get stronger on lan...</td>\n",
       "      <td>science-environment-54902068</td>\n",
       "      <td>https://www.bbc.com/news/science-environment-5...</td>\n",
       "      <td>11/11/2020 16:04</td>\n",
       "      <td>4225</td>\n",
       "      <td>2022-04-18T03:39:40.407571</td>\n",
       "      <td>NaN</td>\n",
       "      <td>bbc</td>\n",
       "    </tr>\n",
       "    <tr>\n",
       "      <th>2</th>\n",
       "      <td>NaN</td>\n",
       "      <td>US President Donald Trump has accused climate ...</td>\n",
       "      <td>Trump: Climate change scientists have 'politic...</td>\n",
       "      <td>world-us-canada-45859325</td>\n",
       "      <td>https://www.bbc.com/news/world-us-canada-45859325</td>\n",
       "      <td>15/10/2018 9:48</td>\n",
       "      <td>5291</td>\n",
       "      <td>2022-04-18T03:39:45.015760</td>\n",
       "      <td>NaN</td>\n",
       "      <td>bbc</td>\n",
       "    </tr>\n",
       "    <tr>\n",
       "      <th>3</th>\n",
       "      <td>NaN</td>\n",
       "      <td>video can not be played Sir Ed Davey has won t...</td>\n",
       "      <td>Sir Ed Davey wins Liberal Democrat leadership ...</td>\n",
       "      <td>uk-politics-53933470</td>\n",
       "      <td>https://www.bbc.com/news/uk-politics-53933470</td>\n",
       "      <td>27/8/2020 12:55</td>\n",
       "      <td>5148</td>\n",
       "      <td>2022-04-18T03:39:47.745532</td>\n",
       "      <td>NaN</td>\n",
       "      <td>bbc</td>\n",
       "    </tr>\n",
       "    <tr>\n",
       "      <th>4</th>\n",
       "      <td>NaN</td>\n",
       "      <td>Greenland is not used to being the centre of a...</td>\n",
       "      <td>As the ice melts, Greenland considers its future</td>\n",
       "      <td>business-51014148</td>\n",
       "      <td>https://www.bbc.com/news/business-51014148</td>\n",
       "      <td>9/1/2020 0:01</td>\n",
       "      <td>7127</td>\n",
       "      <td>2022-04-18T03:39:49.727764</td>\n",
       "      <td>NaN</td>\n",
       "      <td>bbc</td>\n",
       "    </tr>\n",
       "    <tr>\n",
       "      <th>...</th>\n",
       "      <td>...</td>\n",
       "      <td>...</td>\n",
       "      <td>...</td>\n",
       "      <td>...</td>\n",
       "      <td>...</td>\n",
       "      <td>...</td>\n",
       "      <td>...</td>\n",
       "      <td>...</td>\n",
       "      <td>...</td>\n",
       "      <td>...</td>\n",
       "    </tr>\n",
       "    <tr>\n",
       "      <th>5869</th>\n",
       "      <td>NaN</td>\n",
       "      <td>Western Australian government will be the thir...</td>\n",
       "      <td>WA to create climate change legislation</td>\n",
       "      <td>5015927a1f508b6dca56824e5706e0d7</td>\n",
       "      <td>https://www.skynews.com.au/australia-news/poli...</td>\n",
       "      <td>25/1/2023 2:23</td>\n",
       "      <td>428</td>\n",
       "      <td>2023-01-26T04:26:22.246885</td>\n",
       "      <td>https://www.skynews.com.au/australia-news/poli...</td>\n",
       "      <td>skyau</td>\n",
       "    </tr>\n",
       "    <tr>\n",
       "      <th>5870</th>\n",
       "      <td>NaN</td>\n",
       "      <td>US President Joe Biden says the Inflation Redu...</td>\n",
       "      <td>Climate change is ‘an existential threat’: Biden</td>\n",
       "      <td>87451e73b77c8d783562d895981cf9e3</td>\n",
       "      <td>https://www.skynews.com.au/world-news/united-s...</td>\n",
       "      <td>8/2/2023 5:24</td>\n",
       "      <td>579</td>\n",
       "      <td>2023-02-09T07:24:45.700825</td>\n",
       "      <td>https://www.skynews.com.au/world-news/united-s...</td>\n",
       "      <td>skyau</td>\n",
       "    </tr>\n",
       "    <tr>\n",
       "      <th>5871</th>\n",
       "      <td>NaN</td>\n",
       "      <td>Prime Minister Anthony Albanese says the “entr...</td>\n",
       "      <td>The entry fee for credibility is action on cli...</td>\n",
       "      <td>ae86ed7bffbc3477344427ff3564b736</td>\n",
       "      <td>https://www.skynews.com.au/australia-news/poli...</td>\n",
       "      <td>15/12/2022 6:33</td>\n",
       "      <td>642</td>\n",
       "      <td>2023-02-09T07:28:51.978641</td>\n",
       "      <td>https://www.skynews.com.au/australia-news/poli...</td>\n",
       "      <td>skyau</td>\n",
       "    </tr>\n",
       "    <tr>\n",
       "      <th>5872</th>\n",
       "      <td>NaN</td>\n",
       "      <td>Newly-appointed Prime Minister of New Zealand ...</td>\n",
       "      <td>NZ PM blames climate change amid Auckland floods</td>\n",
       "      <td>b565e2eb79992f6a4554a59c0712917f</td>\n",
       "      <td>https://www.skynews.com.au/world-news/global-a...</td>\n",
       "      <td>30/1/2023 3:53</td>\n",
       "      <td>2996</td>\n",
       "      <td>2023-02-09T07:29:14.200831</td>\n",
       "      <td>https://www.skynews.com.au/world-news/global-a...</td>\n",
       "      <td>skyau</td>\n",
       "    </tr>\n",
       "    <tr>\n",
       "      <th>5873</th>\n",
       "      <td>NaN</td>\n",
       "      <td>growing realisation that emissions and tempera...</td>\n",
       "      <td>Faux urgency of climate 'crisis' means no time...</td>\n",
       "      <td>b860d3358b65027049b148921f038db6</td>\n",
       "      <td>https://www.skynews.com.au/insights-and-analys...</td>\n",
       "      <td>3/12/2022 22:00</td>\n",
       "      <td>4124</td>\n",
       "      <td>2023-02-09T07:37:39.342872</td>\n",
       "      <td>https://www.skynews.com.au/insights-and-analys...</td>\n",
       "      <td>skyau</td>\n",
       "    </tr>\n",
       "  </tbody>\n",
       "</table>\n",
       "<p>5874 rows × 10 columns</p>\n",
       "</div>"
      ],
      "text/plain": [
       "      id                                               body  \\\n",
       "0    NaN  , San Francisco This video can not be played G...   \n",
       "1    NaN  North Atlantic hurricanes are retaining far mo...   \n",
       "2    NaN  US President Donald Trump has accused climate ...   \n",
       "3    NaN  video can not be played Sir Ed Davey has won t...   \n",
       "4    NaN  Greenland is not used to being the centre of a...   \n",
       "...   ..                                                ...   \n",
       "5869 NaN  Western Australian government will be the thir...   \n",
       "5870 NaN  US President Joe Biden says the Inflation Redu...   \n",
       "5871 NaN  Prime Minister Anthony Albanese says the “entr...   \n",
       "5872 NaN  Newly-appointed Prime Minister of New Zealand ...   \n",
       "5873 NaN  growing realisation that emissions and tempera...   \n",
       "\n",
       "                                               headline  \\\n",
       "0     Climate change: Greenland ice melt 'is acceler...   \n",
       "1     Climate change: Hurricanes get stronger on lan...   \n",
       "2     Trump: Climate change scientists have 'politic...   \n",
       "3     Sir Ed Davey wins Liberal Democrat leadership ...   \n",
       "4      As the ice melts, Greenland considers its future   \n",
       "...                                                 ...   \n",
       "5869            WA to create climate change legislation   \n",
       "5870   Climate change is ‘an existential threat’: Biden   \n",
       "5871  The entry fee for credibility is action on cli...   \n",
       "5872   NZ PM blames climate change amid Auckland floods   \n",
       "5873  Faux urgency of climate 'crisis' means no time...   \n",
       "\n",
       "                          article_name  \\\n",
       "0         science-environment-48387030   \n",
       "1         science-environment-54902068   \n",
       "2             world-us-canada-45859325   \n",
       "3                 uk-politics-53933470   \n",
       "4                    business-51014148   \n",
       "...                                ...   \n",
       "5869  5015927a1f508b6dca56824e5706e0d7   \n",
       "5870  87451e73b77c8d783562d895981cf9e3   \n",
       "5871  ae86ed7bffbc3477344427ff3564b736   \n",
       "5872  b565e2eb79992f6a4554a59c0712917f   \n",
       "5873  b860d3358b65027049b148921f038db6   \n",
       "\n",
       "                                            article_url    date_published  \\\n",
       "0     https://www.bbc.com/news/science-environment-4...  10/12/2019 16:03   \n",
       "1     https://www.bbc.com/news/science-environment-5...  11/11/2020 16:04   \n",
       "2     https://www.bbc.com/news/world-us-canada-45859325   15/10/2018 9:48   \n",
       "3         https://www.bbc.com/news/uk-politics-53933470   27/8/2020 12:55   \n",
       "4            https://www.bbc.com/news/business-51014148     9/1/2020 0:01   \n",
       "...                                                 ...               ...   \n",
       "5869  https://www.skynews.com.au/australia-news/poli...    25/1/2023 2:23   \n",
       "5870  https://www.skynews.com.au/world-news/united-s...     8/2/2023 5:24   \n",
       "5871  https://www.skynews.com.au/australia-news/poli...   15/12/2022 6:33   \n",
       "5872  https://www.skynews.com.au/world-news/global-a...    30/1/2023 3:53   \n",
       "5873  https://www.skynews.com.au/insights-and-analys...   3/12/2022 22:00   \n",
       "\n",
       "      article_length               date_uploaded  \\\n",
       "0               5963  2022-04-18T03:39:35.914119   \n",
       "1               4225  2022-04-18T03:39:40.407571   \n",
       "2               5291  2022-04-18T03:39:45.015760   \n",
       "3               5148  2022-04-18T03:39:47.745532   \n",
       "4               7127  2022-04-18T03:39:49.727764   \n",
       "...              ...                         ...   \n",
       "5869             428  2023-01-26T04:26:22.246885   \n",
       "5870             579  2023-02-09T07:24:45.700825   \n",
       "5871             642  2023-02-09T07:28:51.978641   \n",
       "5872            2996  2023-02-09T07:29:14.200831   \n",
       "5873            4124  2023-02-09T07:37:39.342872   \n",
       "\n",
       "                                      article_start_url source  \n",
       "0                                                   NaN    bbc  \n",
       "1                                                   NaN    bbc  \n",
       "2                                                   NaN    bbc  \n",
       "3                                                   NaN    bbc  \n",
       "4                                                   NaN    bbc  \n",
       "...                                                 ...    ...  \n",
       "5869  https://www.skynews.com.au/australia-news/poli...  skyau  \n",
       "5870  https://www.skynews.com.au/world-news/united-s...  skyau  \n",
       "5871  https://www.skynews.com.au/australia-news/poli...  skyau  \n",
       "5872  https://www.skynews.com.au/world-news/global-a...  skyau  \n",
       "5873  https://www.skynews.com.au/insights-and-analys...  skyau  \n",
       "\n",
       "[5874 rows x 10 columns]"
      ]
     },
     "execution_count": 8,
     "metadata": {},
     "output_type": "execute_result"
    }
   ],
   "source": [
    "news_articles_df\n"
   ]
  },
  {
   "cell_type": "markdown",
   "id": "9986f0cd",
   "metadata": {},
   "source": [
    "# Perform pre-processing on data"
   ]
  },
  {
   "cell_type": "code",
   "execution_count": 9,
   "id": "c6ee5f9d",
   "metadata": {},
   "outputs": [],
   "source": [
    "news_articles_df[\"body\"] = news_articles_df[\"body\"].astype(str)\n",
    "news_articles_df[\"processed_content\"] = news_articles_df[\"body\"].apply(basic_preprocess)"
   ]
  },
  {
   "cell_type": "markdown",
   "id": "fc74fb06",
   "metadata": {},
   "source": [
    "# Create Bigram/Trigram Models\n",
    "\n",
    "Make bigrams/trigrams after preprocessing"
   ]
  },
  {
   "cell_type": "code",
   "execution_count": 10,
   "id": "0be7179c",
   "metadata": {},
   "outputs": [],
   "source": [
    "bigram = gensim.models.Phrases(news_articles_df[\"processed_content\"], min_count=5, threshold=100) # higher threshold fewer phrases.\n",
    "trigram = gensim.models.Phrases(bigram[news_articles_df[\"processed_content\"]], threshold=100)  \n",
    "\n",
    "\n",
    "bigram_mod = gensim.models.phrases.Phraser(bigram)\n",
    "trigram_mod = gensim.models.phrases.Phraser(trigram)\n"
   ]
  },
  {
   "cell_type": "code",
   "execution_count": 11,
   "id": "8b1d0bee",
   "metadata": {},
   "outputs": [],
   "source": [
    "# data_word_bigrams = make_bigrams(news_articles_df[\"processed_content\"])\n",
    "data_word_trigrams = make_trigrams(news_articles_df[\"processed_content\"])"
   ]
  },
  {
   "cell_type": "code",
   "execution_count": 12,
   "id": "f01c0ee2",
   "metadata": {},
   "outputs": [],
   "source": [
    "dictionary = gensim.corpora.Dictionary(data_word_trigrams)\n",
    "\n",
    "bow_corpus = [dictionary.doc2bow(text) for text in data_word_trigrams]\n"
   ]
  },
  {
   "cell_type": "markdown",
   "id": "b59b9090",
   "metadata": {},
   "source": [
    "# Determine optimal no. of topics\n",
    "1) Train using a range of k from 1 to 10 \n",
    "2) Plot Perplexity and Coherence graphs\n",
    "3) Choose model which has either lowest perplexity/highest coherence"
   ]
  },
  {
   "cell_type": "code",
   "execution_count": 56,
   "id": "92001375",
   "metadata": {},
   "outputs": [
    {
     "name": "stdout",
     "output_type": "stream",
     "text": [
      "#Topics: 2 Score: 0.26414075969800954\n",
      "61.4375\n",
      "#Topics: 4 Score: 0.27019240810063805\n",
      "62.328125\n",
      "#Topics: 6 Score: 0.28048722527382464\n",
      "60.25\n",
      "#Topics: 8 Score: 0.3094308970349466\n",
      "62.625\n",
      "#Topics: 10 Score: 0.3113323788629906\n",
      "63.609375\n"
     ]
    }
   ],
   "source": [
    "model_list = []\n",
    "coherence_values = []\n",
    "model_topics = []\n",
    "\n",
    "def train_ldamodel():\n",
    "    result = []\n",
    "    for i in range(2, 11, 2):\n",
    "        start = time.process_time()\n",
    "        lda_model = gensim.models.LdaMulticore(bow_corpus, num_topics=i, id2word=dictionary, passes=2, workers=2)\n",
    "        model_topics.append(i)\n",
    "        model_list.append(lda_model)\n",
    "        coherence_model_lda = CoherenceModel(model=lda_model, texts=data_word_trigrams, dictionary=dictionary, coherence='c_v')\n",
    "        coherence_lda = coherence_model_lda.get_coherence()\n",
    "        coherence_values.append(coherence_lda)\n",
    "        result.append([i, coherence_lda])\n",
    "        print(\"#Topics: \" + str(i) + \" Score: \" + str(coherence_model_lda.get_coherence()))\n",
    "        print(time.process_time() - start)\n",
    "    return result\n",
    "        \n",
    "        \n",
    "scores = train_ldamodel()        \n",
    "        \n"
   ]
  },
  {
   "cell_type": "code",
   "execution_count": 58,
   "id": "938eba5d",
   "metadata": {},
   "outputs": [
    {
     "data": {
      "image/png": "[encoded data removed]",
      "text/plain": [
       "<Figure size 640x480 with 1 Axes>"
      ]
     },
     "metadata": {},
     "output_type": "display_data"
    }
   ],
   "source": [
    "limit=11; start=2; step=2;\n",
    "x = range(start, limit, step)\n",
    "plt.plot(x, coherence_values)\n",
    "plt.xlabel(\"Num Topics\")\n",
    "plt.ylabel(\"Coherence score\")\n",
    "plt.legend((\"coherence_values\"), loc='best')\n",
    "plt.show()"
   ]
  },
  {
   "cell_type": "code",
   "execution_count": 59,
   "id": "a818c39a",
   "metadata": {},
   "outputs": [
    {
     "name": "stdout",
     "output_type": "stream",
     "text": [
      "Num Topics = 2  has Coherence Value of 0.2641\n",
      "Num Topics = 4  has Coherence Value of 0.2702\n",
      "Num Topics = 6  has Coherence Value of 0.2805\n",
      "Num Topics = 8  has Coherence Value of 0.3094\n",
      "Num Topics = 10  has Coherence Value of 0.3113\n"
     ]
    }
   ],
   "source": [
    "# Print the coherence scores\n",
    "for m, cv in zip(x, coherence_values):\n",
    "    print(\"Num Topics =\", m, \" has Coherence Value of\", round(cv, 4))"
   ]
  },
  {
   "cell_type": "markdown",
   "id": "17d1b83b",
   "metadata": {},
   "source": [
    "# Show top 10 words from 4 topics"
   ]
  },
  {
   "cell_type": "code",
   "execution_count": 75,
   "id": "6e57b0ff",
   "metadata": {},
   "outputs": [
    {
     "name": "stdout",
     "output_type": "stream",
     "text": [
      "59.953125\n"
     ]
    }
   ],
   "source": [
    "model_list = []\n",
    "coherence_values = []\n",
    "model_topics = []\n",
    "\n",
    "start = time.process_time()\n",
    "lda_model = gensim.models.LdaMulticore(bow_corpus, num_topics=4, id2word=dictionary, passes=2, workers=2)\n",
    "model_topics.append(4)\n",
    "model_list.append(lda_model)\n",
    "coherence_model_lda = CoherenceModel(model=lda_model, texts=data_word_trigrams, dictionary=dictionary, coherence='c_v')\n",
    "coherence_lda = coherence_model_lda.get_coherence()\n",
    "print(time.process_time() - start)"
   ]
  },
  {
   "cell_type": "code",
   "execution_count": 18,
   "id": "81276055",
   "metadata": {},
   "outputs": [
    {
     "data": {
      "text/plain": [
       "<gensim.models.ldamulticore.LdaMulticore at 0x265b9d46820>"
      ]
     },
     "execution_count": 18,
     "metadata": {},
     "output_type": "execute_result"
    }
   ],
   "source": [
    "lda_model"
   ]
  },
  {
   "cell_type": "code",
   "execution_count": 19,
   "id": "7deb6700",
   "metadata": {},
   "outputs": [
    {
     "data": {
      "text/plain": [
       "[(0,\n",
       "  '0.005*\"temperature\" + 0.004*\"level\" + 0.004*\"people\" + 0.004*\"water\" + 0.003*\"scientist\" + 0.003*\"ocean\" + 0.003*\"impact\" + 0.003*\"risk\" + 0.003*\"need\" + 0.003*\"record\" + 0.002*\"human\" + 0.002*\"much\" + 0.002*\"part\" + 0.002*\"many\" + 0.002*\"found\"'),\n",
       " (1,\n",
       "  '0.005*\"people\" + 0.005*\"carbon\" + 0.004*\"biden\" + 0.004*\"energy\" + 0.003*\"temperature\" + 0.003*\"policy\" + 0.003*\"president\" + 0.003*\"last\" + 0.003*\"action\" + 0.003*\"state\" + 0.003*\"plan\" + 0.003*\"australia\" + 0.002*\"level\" + 0.002*\"many\" + 0.002*\"issue\"'),\n",
       " (2,\n",
       "  '0.004*\"action\" + 0.004*\"policy\" + 0.003*\"energy\" + 0.003*\"temperature\" + 0.003*\"need\" + 0.003*\"people\" + 0.003*\"make\" + 0.003*\"nation\" + 0.003*\"level\" + 0.003*\"state\" + 0.003*\"company\" + 0.003*\"scientist\" + 0.002*\"many\" + 0.002*\"environmental\" + 0.002*\"last\"'),\n",
       " (3,\n",
       "  '0.008*\"people\" + 0.004*\"carbon\" + 0.004*\"temperature\" + 0.003*\"much\" + 0.003*\"make\" + 0.003*\"many\" + 0.003*\"need\" + 0.003*\"scientist\" + 0.003*\"human\" + 0.003*\"last\" + 0.003*\"planet\" + 0.003*\"energy\" + 0.002*\"water\" + 0.002*\"part\" + 0.002*\"impact\"')]"
      ]
     },
     "execution_count": 19,
     "metadata": {},
     "output_type": "execute_result"
    }
   ],
   "source": [
    "lda_model.show_topics(4, 15)"
   ]
  },
  {
   "cell_type": "markdown",
   "id": "c28368bb",
   "metadata": {},
   "source": [
    "# Visualization"
   ]
  },
  {
   "cell_type": "code",
   "execution_count": 15,
   "id": "26ababc2",
   "metadata": {},
   "outputs": [
    {
     "name": "stderr",
     "output_type": "stream",
     "text": [
      "C:\\Users\\User\\anaconda3\\lib\\site-packages\\pyLDAvis\\_prepare.py:246: FutureWarning: In a future version of pandas all arguments of DataFrame.drop except for the argument 'labels' will be keyword-only.\n",
      "  default_term_info = default_term_info.sort_values(\n"
     ]
    }
   ],
   "source": [
    "'''\n",
    "Now that the LDA model is built, the next step is to examine the produced \n",
    "topics and the associated keywords. There is no better tool than pyLDAvis package’s \n",
    "interactive chart and is designed to work well with jupyter notebooks.\n",
    "'''\n",
    "import warnings\n",
    "\n",
    "with warnings.catch_warnings():\n",
    "    warnings.filterwarnings(\"ignore\", category=DeprecationWarning)\n",
    "\n",
    "# Visualize the topics\n",
    "pyLDAvis.enable_notebook()\n",
    "vis1 = pyLDAvis.gensim_models.prepare(lda_model, bow_corpus, dictionary)"
   ]
  },
  {
   "cell_type": "code",
   "execution_count": 16,
   "id": "5da9b5c9",
   "metadata": {
    "scrolled": false
   },
   "outputs": [
    {
     "data": {
      "text/html": [
       "\n",
       "<link rel=\"stylesheet\" type=\"text/css\" href=\"https://cdn.jsdelivr.net/gh/bmabey/pyLDAvis@3.3.1/pyLDAvis/js/ldavis.v1.0.0.css\">\n",
       "\n",
       "\n",
       "<div id=\"ldavis_el1361226355791952807341103815\"></div>\n",
       "<script type=\"text/javascript\">\n",
       "\n",
       "var ldavis_el1361226355791952807341103815_data = {\"mdsDat\": {\"x\": [0.02432682278174037, 0.011573148593190436, -0.019532190508455845, -0.016367780866474946], \"y\": [-0.009232200037096445, 0.0126406260589723, -0.00711345331915827, 0.003705027297282416], \"topics\": [1, 2, 3, 4], \"cluster\": [1, 1, 1, 1], \"Freq\": [30.265439785311806, 25.676149604263593, 25.338572717576053, 18.719837892848556]}, \"tinfo\": {\"Term\": [\"biden\", \"policy\", \"people\", \"president\", \"carbon\", \"target\", \"trump\", \"coal\", \"company\", \"nation\", \"energy\", \"action\", \"ocean\", \"australia\", \"china\", \"party\", \"plan\", \"storm\", \"economy\", \"republican\", \"commitment\", \"leader\", \"labor\", \"power\", \"zero\", \"democrat\", \"united_state\", \"administration\", \"goal\", \"water\", \"professor_plimer\", \"bramston\", \"naming_shaming\", \"woolf\", \"cosying\", \"cervest\", \"solid_liquid\", \"dublin\", \"parrington\", \"mediawatch\", \"surigae\", \"baeconomics\", \"permeating\", \"stratification\", \"pontificating\", \"doorstop\", \"camargo\", \"seiler\", \"snowiest\", \"rasmussen\", \"govenrment\", \"bristlecones\", \"whitby\", \"bristlecone\", \"kossin\", \"krawchuk\", \"inpe\", \"gomes\", \"corelogic\", \"sublette\", \"lake_michigan\", \"emanuel\", \"rignot\", \"lake_hopatcong\", \"snowfall\", \"rapid_intensification\", \"peregrine\", \"glacier\", \"mucilage\", \"tropical_cyclone\", \"fjord\", \"thoman\", \"storm\", \"ocean\", \"wind_speed\", \"seaweed\", \"siberian_arctic\", \"record\", \"sheet\", \"hurricane\", \"winter\", \"atmospheric_river\", \"arctic\", \"warm\", \"melt\", \"season\", \"lake\", \"water\", \"flooding\", \"snow\", \"fire\", \"greenland\", \"region\", \"level\", \"surface\", \"risk\", \"researcher\", \"loss\", \"temperature\", \"coastal\", \"wildfire\", \"across\", \"area\", \"data\", \"scientist\", \"average\", \"impact\", \"found\", \"model\", \"city\", \"rise\", \"home\", \"increase\", \"according\", \"human\", \"since\", \"part\", \"need\", \"people\", \"change\", \"much\", \"effect\", \"many\", \"make\", \"future\", \"planet\", \"research\", \"action\", \"already\", \"energy\", \"last\", \"chikarovski\", \"abseiled\", \"leeser\", \"baywatch\", \"demonise\", \"lizzo\", \"ranchi\", \"sellout\", \"rickshaw\", \"hereafter\", \"prue\", \"condone\", \"creighton\", \"reignite\", \"kernza\", \"lobotomy\", \"macsween\", \"latching\", \"kallman\", \"pamela_anderson\", \"ketchell\", \"liao\", \"electric_rickshaw\", \"clown\", \"bleating\", \"obsessing\", \"adam_minter\", \"white_shark\", \"ferorelli\", \"westslope\", \"penniman\", \"vettel\", \"chory\", \"cutthroat_trout\", \"trout\", \"dutkiewicz\", \"manning\", \"shark\", \"blackburn\", \"duluth\", \"stove\", \"nonnative\", \"pollen\", \"prairie\", \"denicola\", \"child\", \"amstrup\", \"people\", \"wheat\", \"polar_bear\", \"plant\", \"soil\", \"pollen_season\", \"bread\", \"attari\", \"lifestyle\", \"carbon\", \"feel\", \"changing\", \"crop\", \"fertilizer\", \"planet\", \"much\", \"often\", \"food\", \"behavior\", \"human\", \"thing\", \"kind\", \"life\", \"author\", \"le\", \"something\", \"choice\", \"many\", \"make\", \"think\", \"percent\", \"help\", \"need\", \"really\", \"last\", \"temperature\", \"know\", \"scientist\", \"come\", \"found\", \"around\", \"part\", \"first\", \"well\", \"future\", \"going\", \"water\", \"research\", \"energy\", \"impact\", \"crisis\", \"already\", \"state\", \"action\", \"decade\", \"science\", \"gazard\", \"albo\", \"newspoll\", \"westpac\", \"angela_christofilou_independent_angela\", \"halloran\", \"asten\", \"christofilou_independent\", \"angela_christofilou_independent\", \"crisafulli\", \"angela_christofilou\", \"zali_steggall\", \"lackenby\", \"golan\", \"mulholland\", \"bloke\", \"cross_yuki_sugiura_british\", \"zukunft\", \"gohmert\", \"whacked\", \"polumbo\", \"eden_monaro\", \"benwell\", \"khorshid\", \"wingrove\", \"golan_boyd\", \"gutless\", \"incurs\", \"death_certificate\", \"prime_minister_morrison\", \"deering\", \"eel\", \"barilaro\", \"ostp\", \"benson\", \"khoury\", \"steggall\", \"bandt\", \"naomi\", \"biden\", \"trudeau\", \"hydrogen\", \"brien\", \"white_house\", \"kuperberg\", \"president\", \"bill\", \"democrat\", \"parliament\", \"peat\", \"liberal\", \"zero\", \"election\", \"reactor\", \"carbon\", \"senate\", \"republican\", \"trump\", \"administration\", \"party\", \"energy\", \"albanese\", \"australian\", \"australia\", \"coal\", \"industry\", \"plan\", \"policy\", \"public\", \"china\", \"support\", \"target\", \"clean\", \"issue\", \"federal\", \"people\", \"state\", \"last\", \"want\", \"come\", \"crisis\", \"action\", \"group\", \"temperature\", \"leader\", \"according\", \"american\", \"many\", \"make\", \"level\", \"science\", \"future\", \"need\", \"much\", \"part\", \"hardgrave\", \"oriel\", \"appetiser\", \"crowe\", \"rectified\", \"trad\", \"feodoroff\", \"shoebridge\", \"falinski\", \"kyoto_carryover\", \"raving\", \"weisser\", \"horsley\", \"lundstrom\", \"stoker\", \"nasr\", \"zandi\", \"longborn\", \"chubb\", \"mets_hallitus\", \"molan\", \"unorthodoxy\", \"elsworth\", \"huey\", \"dunkirk\", \"odor\", \"hondros\", \"markson\", \"sharri\", \"combated\", \"paterson\", \"jade\", \"valadao\", \"saguaro\", \"chris_smith\", \"palaszczuk\", \"csiro\", \"judge_barrett\", \"scent\", \"hartl\", \"accelerate_phasing\", \"blackrock\", \"senator_matt_canavan\", \"shareholder\", \"company\", \"curriculum\", \"text\", \"commitment\", \"teacher\", \"policy\", \"nation\", \"agreement\", \"action_tracker\", \"action\", \"target\", \"pledge\", \"guterres\", \"glasgow\", \"labor\", \"goal\", \"coal\", \"investor\", \"prince_charles\", \"trump\", \"economy\", \"negotiator\", \"power\", \"united_state\", \"paris\", \"leader\", \"environmental\", \"court\", \"china\", \"state\", \"made\", \"australia\", \"energy\", \"need\", \"party\", \"make\", \"told\", \"plan\", \"price\", \"president\", \"level\", \"percent\", \"going\", \"scientist\", \"many\", \"temperature\", \"last\", \"impact\", \"people\", \"already\", \"much\", \"carbon\", \"take\"], \"Freq\": [4323.0, 5027.0, 10982.0, 3416.0, 6783.0, 2969.0, 2840.0, 2456.0, 3223.0, 3681.0, 6730.0, 5781.0, 3469.0, 3574.0, 3105.0, 1659.0, 3730.0, 2475.0, 2869.0, 1849.0, 1276.0, 3228.0, 1100.0, 3236.0, 2115.0, 1320.0, 3312.0, 1571.0, 2101.0, 5091.0, 22.62701507109663, 21.52578927070024, 13.04103028942938, 24.812031729833098, 4.884311012364248, 10.751660302762165, 7.316118641199833, 16.14683257184805, 13.905422102352276, 16.337324327100028, 18.193282697260422, 4.761694875571686, 4.743093962610908, 19.06531785988625, 4.734668518318046, 4.707319009222527, 13.555671110564166, 10.35277436330694, 8.448224819400329, 12.733572824822131, 4.680338119036348, 10.279653554092032, 10.276467807888798, 8.370451111899317, 44.483416444517275, 8.366128383861481, 12.323556303134229, 8.350164865961485, 8.333707618429607, 14.157667289657965, 27.114776968184234, 42.778966549057564, 14.605573441093291, 39.517445968698766, 161.18422795151216, 69.98645483471797, 19.13429109607488, 623.3360404042876, 95.86342415244856, 175.62496893110227, 24.757561572719876, 16.093885714068794, 1573.1110659446415, 2110.753550786395, 64.73273702061014, 90.83081421313895, 24.513186765306315, 1743.5321709382356, 280.06430468578384, 984.2351811911111, 758.9129620791374, 78.7860375558208, 1025.0551506201086, 592.372481668285, 318.76007225253136, 687.7313715047952, 279.69836131501796, 2455.9886435810654, 884.1038726592188, 495.3412435168304, 1454.7144609835943, 286.6153706483506, 1195.1075390569697, 2696.0788982051654, 568.3035319536144, 1780.9747123311427, 1373.9228826777435, 766.5875784773714, 3439.141188594261, 426.53174247712224, 926.9263948280144, 1258.2989949761616, 1451.459599955452, 1087.108662877875, 2251.041920124311, 1176.2889334389718, 2014.721167349488, 1586.5278177706737, 811.0276101850887, 1167.9145367620908, 1456.185733786456, 1341.2449091298047, 1490.4351273037248, 1527.5047337725127, 1667.2061251004095, 1375.693659565036, 1594.644581565329, 1776.1026542357367, 2531.7723948560015, 1253.8122925532903, 1638.2379713150228, 1297.0935231163942, 1589.5669171187956, 1575.9753373999736, 1433.6048131673206, 1405.5903228829072, 1358.348982758995, 1452.2751509834798, 1323.2649774425452, 1373.8086742866537, 1348.156938446084, 7.8769530428028895, 4.203839756040262, 4.199646983020072, 10.728124643718829, 4.591117522355784, 9.10575550977649, 18.92086732668225, 4.546168696750975, 29.706997002137044, 4.555767340739774, 5.718831082398428, 4.997402302002706, 4.073310830993599, 4.5144137998783815, 43.4528309366997, 4.03723165154943, 5.634597143718799, 4.034469174339104, 23.609545261509545, 10.450978101500365, 4.007194404034021, 9.388512435848593, 16.832276122909093, 6.212011057001068, 3.9669869119600074, 5.260801954068162, 7.974229726006055, 27.268161691248363, 16.603021838577455, 7.026580182780953, 58.89295937473033, 13.5550715639644, 55.7826570046276, 12.127882278936967, 31.35264953972447, 13.356088293142074, 13.08988189588738, 122.5941150498079, 30.00187455261056, 15.374899700542917, 37.95054586328337, 13.132903122831511, 72.78590175738886, 50.15437128386708, 11.401101474003124, 921.6463729441488, 16.45126706483535, 4605.423897631737, 160.41839103359462, 174.09662698772806, 1110.6400539821611, 416.3769510233498, 23.31138514979276, 40.37883348684588, 24.784333545653034, 106.28156260296181, 2219.841331341657, 467.5962721572291, 633.6223795751375, 426.85573148662326, 81.33304507769823, 1508.518917069846, 1774.5915929274709, 575.6695705926784, 932.5466798334222, 174.75923630912666, 1542.4845164244618, 972.4129201542119, 488.8217729218891, 1042.077344336155, 695.4722121293419, 1010.8246109902359, 592.9365468779084, 287.1697073232043, 1651.529734646171, 1692.6392476266196, 1031.289236839888, 1266.2449717652207, 999.4594685767166, 1613.378494852389, 773.6582232872777, 1516.0469462785886, 2163.461169492125, 893.7518012299063, 1588.0003573684194, 1205.4347563864999, 1174.7534910653274, 1209.9919206279076, 1281.8281618849942, 1195.2022777803493, 1074.9053757161944, 1240.400540761349, 1070.93273518791, 1327.0683091048481, 1107.6497048910555, 1466.8817422068703, 1270.9846505537873, 1123.631921912951, 1098.1556348122995, 1151.7528143165719, 1171.5953399286855, 1084.7249101889583, 1075.2279903914196, 8.72873092809087, 18.09313098482188, 8.929374694770154, 12.945424030949754, 135.4241242997445, 4.459126711482021, 4.451475791513967, 132.66711166153232, 18.540894254810222, 11.927093429891043, 48.675359259344006, 11.846084831169573, 4.357059944230873, 17.02739574553716, 11.743567408688572, 6.55994139358803, 28.79129782184218, 7.702785684299159, 34.816462186951156, 4.263999894739634, 5.954260764665073, 17.45143881326846, 4.2450657327751475, 5.931490412830134, 4.216243724996462, 7.8390225412914365, 4.195405519138497, 4.189906963292616, 20.270954572747666, 10.669945191934445, 15.8596458555925, 14.240493731320477, 9.336747606572658, 60.648939666698226, 25.283646854786024, 15.63597881832683, 39.39688106742321, 43.717411879740354, 38.749507165534226, 2518.2477882679414, 30.10947152242096, 250.29635903089016, 24.662523364562514, 559.399395499141, 32.28381045199346, 1640.1075393217222, 768.3444972047496, 682.3921309040612, 225.91552277612254, 136.34951875595283, 312.72309168170824, 978.526924449565, 472.34518227093076, 57.82594946780519, 2596.182489126353, 388.5015145641359, 832.6143341255162, 1196.7673696847667, 718.3947135684107, 751.9420039132455, 2496.6653881443503, 242.16437226917105, 595.4295774751637, 1413.1047704387677, 1013.034697001112, 985.4813623802984, 1431.7212255756772, 1807.5366053471664, 1146.368672125857, 1194.1483127291626, 893.6310493355326, 1134.1572193335044, 834.5425580735277, 1308.3805557202797, 761.1696571879055, 2622.8719391313107, 1515.6704835400465, 1564.1738539608298, 979.728017717049, 1269.85361705602, 1276.6460561834017, 1549.1199336709876, 1074.554805343708, 1850.627502224228, 1061.436041530402, 1210.7288281210801, 1048.3777084374422, 1308.8343093325752, 1297.5527309794868, 1317.8807358474096, 1136.6028322735697, 1128.9194978295714, 1171.933352078313, 1102.8313465722995, 1076.5815889189507, 10.601484147256226, 12.163524824938309, 4.433376597862214, 10.21996124806599, 4.357672289234878, 4.30892809263128, 63.267477322958136, 9.87240791638414, 4.22313445629682, 10.976463780714822, 4.628032147450848, 10.82019773047095, 10.762673312284454, 10.686591144594157, 4.099407318367903, 8.975805359695617, 5.6871782730815905, 4.0862954956386695, 8.711954793868962, 12.177435021212162, 13.740033616671525, 4.019063006142244, 5.621869429723877, 4.0247240974182, 4.45514369577091, 14.576206656923251, 7.152831293847784, 8.84171106761568, 10.340318230436345, 4.390104374262301, 24.02057235395421, 10.58574014546003, 17.08743307558009, 60.3339139415691, 26.528928402666235, 18.504874903735594, 43.42359069419352, 37.30143435518248, 22.20642305251588, 15.438379118574106, 10.228984567787297, 58.37810033241784, 27.24203942753544, 60.60069376446726, 1139.4479998670968, 49.87271855914325, 94.66511484462096, 507.00368971243216, 113.51144146775698, 1540.5858989742642, 1184.3303545431963, 410.07115474300974, 60.28867050915122, 1608.0310464943761, 930.3121390424736, 411.5338747318886, 112.14503061962508, 342.9399027868575, 400.6129037634893, 665.1564653765039, 753.2922903675533, 196.61272515133055, 75.06403644841055, 838.4891947586107, 830.6345821720772, 136.5861597331737, 860.7677832299285, 874.3310286327028, 304.4595149368564, 853.4412824750088, 996.7167178155009, 267.41565891354435, 807.9450521520059, 1168.9798395474306, 878.8523037041972, 874.4285336350996, 1393.254970635174, 1249.4010764796699, 490.3199460094641, 1215.0838574943923, 812.1185851510278, 874.665290082941, 449.84425695704675, 801.843741855845, 1176.7928989614857, 878.8141327666881, 799.8274466377987, 1074.791360126134, 1032.5283048454403, 1339.5080680107485, 994.1218671471578, 953.5869406651376, 1222.146640557002, 839.8164803957957, 911.9762701923535, 927.704822422387, 835.5400791360687], \"Total\": [4323.0, 5027.0, 10982.0, 3416.0, 6783.0, 2969.0, 2840.0, 2456.0, 3223.0, 3681.0, 6730.0, 5781.0, 3469.0, 3574.0, 3105.0, 1659.0, 3730.0, 2475.0, 2869.0, 1849.0, 1276.0, 3228.0, 1100.0, 3236.0, 2115.0, 1320.0, 3312.0, 1571.0, 2101.0, 5091.0, 24.23460875567766, 24.11851691607028, 14.879314666204056, 28.564783236138457, 5.686608729542148, 12.527739646602221, 8.590571267571308, 18.995353611552872, 16.369805029281835, 19.33833424956912, 21.603311735717966, 5.668927757660015, 5.660545976739527, 22.787487587265016, 5.659150133585152, 5.663170931628229, 16.31384117292139, 12.461607246547743, 10.189087274903413, 15.379905846920924, 5.655230364570112, 12.455421787748634, 12.47362613767708, 10.173346743259252, 54.08415297815978, 10.178811081077567, 15.009739810559207, 10.176458339108837, 10.16369781562886, 17.27493094790602, 33.27305696252993, 52.80574738478178, 17.847218601425595, 48.81988023905225, 205.62073430302124, 87.88319246071909, 23.502559889440107, 840.8698217934932, 123.79024102528388, 235.46118842595467, 30.988251751655742, 19.859133617383808, 2475.837239206927, 3469.6536128350494, 87.0560979979925, 125.30952958511706, 31.097428256265747, 3074.720710238112, 429.15793879176084, 1697.1570622789166, 1281.464783337223, 109.42885418813255, 1779.7474118011883, 997.2787524379595, 510.56143925585474, 1197.1409173586533, 450.55393213278, 5091.031932062279, 1630.934122675326, 857.2359579710445, 2887.348034922291, 466.53358673174114, 2412.7808482795617, 6193.883433470973, 1044.9036245503194, 3913.1376132814225, 2966.8097374666986, 1508.304684861966, 8792.737928321363, 769.3273608946191, 1917.620804687435, 2807.66983037794, 3335.267899870544, 2365.083467776661, 5905.7207871582705, 2672.469101475883, 5277.234526330336, 3982.8191345681907, 1683.3693227054825, 2706.1404208670538, 3644.0741640546867, 3294.2657188953744, 3814.5836727469914, 4133.964628632794, 4703.614449376828, 3577.00475667607, 4590.537641133927, 5810.815577646108, 10982.214872176053, 3188.8596717481746, 5427.637181007147, 3443.880240656575, 5582.459265942982, 5781.251173500472, 4529.391380326647, 4435.095218958921, 4030.3812135889893, 5781.021471077529, 3993.7338118610182, 6730.610775273049, 5422.499605832661, 9.06320675007515, 5.046681984210142, 5.042736649789797, 13.121158743030962, 5.617460157459247, 11.14899859998061, 23.283061845565435, 5.606123548352537, 36.63964676824486, 5.619211225503844, 7.055165998693164, 6.177738957647834, 5.043487976037764, 5.594061372133749, 53.84503345890752, 5.045546167147256, 7.046811155845637, 5.045774879548525, 29.675697473017713, 13.147113168857334, 5.060890177938731, 11.863921605314918, 21.29083013504145, 7.893985116590603, 5.0432054303198335, 6.756242805470504, 10.277146176102192, 35.14409698289093, 21.583337887656878, 9.138012284772381, 76.90232113357908, 17.65876710504197, 74.84364956782257, 15.90530919667614, 43.06741920957199, 17.62050385908162, 17.282931079970155, 183.46481927187864, 41.782084403588854, 20.549201639999634, 54.112207352227244, 17.397365392800022, 109.78564433720801, 74.93777996537139, 15.001082030050016, 1847.9756710365925, 22.35221628194273, 10982.214872176053, 277.15953085244735, 310.2018221466588, 2651.454229739516, 873.189092817365, 33.173075837050014, 62.4306677601882, 35.79577207886788, 193.8958845332267, 6783.01273729424, 1089.9600571223764, 1559.0173431112037, 987.3664214522291, 142.7550924545404, 4435.095218958921, 5427.637181007147, 1452.2633295530252, 2579.9806941311167, 351.63250148872737, 4703.614449376828, 2748.0621161590607, 1206.7123008602264, 3043.13157374677, 1869.3454683899151, 3034.932961125621, 1571.522192153403, 642.289791996082, 5582.459265942982, 5781.251173500472, 3144.697726899094, 4074.0322988612033, 3086.2280929682315, 5810.815577646108, 2253.5839336474583, 5422.499605832661, 8792.737928321363, 2729.4933405895945, 5905.7207871582705, 4092.1658385042056, 3982.8191345681907, 4170.491929033223, 4590.537641133927, 4190.449708115404, 3607.7226506550282, 4529.391380326647, 3625.8533312725394, 5091.031932062279, 4030.3812135889893, 6730.610775273049, 5277.234526330336, 4241.73441786738, 3993.7338118610182, 5088.2781056762005, 5781.021471077529, 4004.915937956192, 4211.419433024143, 9.559048590745967, 20.15804561211332, 10.137361269657445, 14.950849118414704, 158.4235252090987, 5.300026721741985, 5.297476033579759, 158.5617147080242, 22.283765289653324, 14.391092789759647, 58.777984778198764, 14.361887661620388, 5.291480693319361, 20.801661693129038, 14.351357871626576, 8.018098950672293, 35.38560301405453, 9.526064371206372, 43.07652601282033, 5.290680132529535, 7.403377591900303, 21.706905396060787, 5.285721228702309, 7.404997201472208, 5.277765483908536, 9.821757495170697, 5.2774506563506804, 5.278351499220011, 25.566314754896535, 13.46955531087893, 20.130309157924138, 18.09981545211751, 11.86342010903332, 80.38580375950382, 32.9704838597122, 20.105269685503227, 52.75938718717199, 59.431976143013536, 52.6487822597404, 4323.194576501076, 40.5783547688415, 392.51971068454566, 33.057925811553424, 992.4750807231312, 44.74045662309272, 3416.13830971177, 1478.9591879162904, 1320.7032007411622, 391.29967853191164, 221.90729096161516, 563.9573650894821, 2115.629379867173, 929.3236034877227, 85.44173181061569, 6783.01273729424, 767.2220021218528, 1849.5872978208736, 2840.555195160904, 1571.4819681613476, 1659.899328547246, 6730.610775273049, 450.00477862681885, 1290.1547068323432, 3574.520711735608, 2456.6128332532617, 2379.8325000788177, 3730.2818596574025, 5027.687841207569, 2949.9932132222757, 3105.338311784335, 2202.934013446889, 2969.927926357263, 2066.1104935558815, 3784.848092455175, 1947.5794658167924, 10982.214872176053, 5088.2781056762005, 5422.499605832661, 2788.7233648211004, 4092.1658385042056, 4241.73441786738, 5781.021471077529, 3273.9415963985157, 8792.737928321363, 3228.2402807747235, 4133.964628632794, 3310.9762316959677, 5582.459265942982, 5781.251173500472, 6193.883433470973, 4211.419433024143, 4529.391380326647, 5810.815577646108, 5427.637181007147, 4590.537641133927, 11.606333546855664, 13.658841680456169, 5.2650394186884375, 12.167741135650102, 5.262231506565589, 5.255239544822525, 77.1873507873757, 12.206950834492064, 5.255802948400682, 13.697512902766627, 5.824575482654682, 13.652499770322438, 13.70272077631476, 13.672489937511175, 5.257254581621882, 11.559008222461248, 7.3499703825284834, 5.281099445086767, 11.270770695717102, 15.805124100065592, 17.857218698426905, 5.22502062505302, 7.324019557125864, 5.246719864045469, 5.817642922021198, 19.105250685359003, 9.381964847963243, 11.617171803698222, 13.644735305372445, 5.831788134877462, 31.92389160203535, 14.124179452326658, 23.429170993348826, 89.89167213418116, 37.982491449698784, 26.062298345581056, 64.8169143898446, 57.192327296785194, 32.67569637635757, 21.948081971051717, 13.925137654264496, 96.69395434980044, 42.065072825539595, 106.50286034240307, 3223.3418124254904, 85.34303723768305, 180.17290849944567, 1276.5070667535488, 223.83525521072553, 5027.687841207569, 3681.0722821888435, 1091.332377328207, 109.30959509280956, 5781.021471077529, 2969.927926357263, 1108.2854432926874, 231.5537717440435, 905.996019566726, 1100.646181864632, 2101.3354336900093, 2456.6128332532617, 468.2486006692254, 144.12874872156152, 2840.555195160904, 2869.6199314646974, 305.134873242469, 3236.1427249969647, 3312.2116069072717, 856.7991069882167, 3228.2402807747235, 3949.3288738140286, 725.8655438729736, 3105.338311784335, 5088.2781056762005, 3538.644097246863, 3574.520711735608, 6730.610775273049, 5810.815577646108, 1659.899328547246, 5781.251173500472, 3328.255651267809, 3730.2818596574025, 1495.298455269891, 3416.13830971177, 6193.883433470973, 4074.0322988612033, 3625.8533312725394, 5905.7207871582705, 5582.459265942982, 8792.737928321363, 5422.499605832661, 5277.234526330336, 10982.214872176053, 3993.7338118610182, 5427.637181007147, 6783.01273729424, 3946.0089789828016], \"Category\": [\"Default\", \"Default\", \"Default\", \"Default\", \"Default\", \"Default\", \"Default\", \"Default\", \"Default\", \"Default\", \"Default\", \"Default\", \"Default\", \"Default\", \"Default\", \"Default\", \"Default\", \"Default\", \"Default\", \"Default\", \"Default\", \"Default\", \"Default\", \"Default\", \"Default\", \"Default\", \"Default\", \"Default\", \"Default\", \"Default\", \"Topic1\", \"Topic1\", \"Topic1\", \"Topic1\", \"Topic1\", \"Topic1\", \"Topic1\", \"Topic1\", \"Topic1\", \"Topic1\", \"Topic1\", \"Topic1\", \"Topic1\", \"Topic1\", \"Topic1\", \"Topic1\", \"Topic1\", \"Topic1\", \"Topic1\", \"Topic1\", \"Topic1\", \"Topic1\", \"Topic1\", \"Topic1\", \"Topic1\", \"Topic1\", \"Topic1\", \"Topic1\", \"Topic1\", \"Topic1\", \"Topic1\", \"Topic1\", \"Topic1\", \"Topic1\", \"Topic1\", \"Topic1\", \"Topic1\", \"Topic1\", \"Topic1\", \"Topic1\", \"Topic1\", \"Topic1\", \"Topic1\", \"Topic1\", \"Topic1\", \"Topic1\", \"Topic1\", \"Topic1\", \"Topic1\", \"Topic1\", \"Topic1\", \"Topic1\", \"Topic1\", \"Topic1\", \"Topic1\", \"Topic1\", \"Topic1\", \"Topic1\", \"Topic1\", \"Topic1\", \"Topic1\", \"Topic1\", \"Topic1\", \"Topic1\", \"Topic1\", \"Topic1\", \"Topic1\", \"Topic1\", \"Topic1\", \"Topic1\", \"Topic1\", \"Topic1\", \"Topic1\", \"Topic1\", \"Topic1\", \"Topic1\", \"Topic1\", \"Topic1\", \"Topic1\", \"Topic1\", \"Topic1\", \"Topic1\", \"Topic1\", \"Topic1\", \"Topic1\", \"Topic1\", \"Topic1\", \"Topic1\", \"Topic1\", \"Topic1\", \"Topic1\", \"Topic1\", \"Topic1\", \"Topic1\", \"Topic1\", \"Topic1\", \"Topic1\", \"Topic1\", \"Topic1\", \"Topic1\", \"Topic1\", \"Topic2\", \"Topic2\", \"Topic2\", \"Topic2\", \"Topic2\", \"Topic2\", \"Topic2\", \"Topic2\", \"Topic2\", \"Topic2\", \"Topic2\", \"Topic2\", \"Topic2\", \"Topic2\", \"Topic2\", \"Topic2\", \"Topic2\", \"Topic2\", \"Topic2\", \"Topic2\", \"Topic2\", \"Topic2\", \"Topic2\", \"Topic2\", \"Topic2\", \"Topic2\", \"Topic2\", \"Topic2\", \"Topic2\", \"Topic2\", \"Topic2\", \"Topic2\", \"Topic2\", \"Topic2\", \"Topic2\", \"Topic2\", \"Topic2\", \"Topic2\", \"Topic2\", \"Topic2\", \"Topic2\", \"Topic2\", \"Topic2\", \"Topic2\", \"Topic2\", \"Topic2\", \"Topic2\", \"Topic2\", \"Topic2\", \"Topic2\", \"Topic2\", \"Topic2\", \"Topic2\", \"Topic2\", \"Topic2\", \"Topic2\", \"Topic2\", \"Topic2\", \"Topic2\", \"Topic2\", \"Topic2\", \"Topic2\", \"Topic2\", \"Topic2\", \"Topic2\", \"Topic2\", \"Topic2\", \"Topic2\", \"Topic2\", \"Topic2\", \"Topic2\", \"Topic2\", \"Topic2\", \"Topic2\", \"Topic2\", \"Topic2\", \"Topic2\", \"Topic2\", \"Topic2\", \"Topic2\", \"Topic2\", \"Topic2\", \"Topic2\", \"Topic2\", \"Topic2\", \"Topic2\", \"Topic2\", \"Topic2\", \"Topic2\", \"Topic2\", \"Topic2\", \"Topic2\", \"Topic2\", \"Topic2\", \"Topic2\", \"Topic2\", \"Topic2\", \"Topic2\", \"Topic2\", \"Topic2\", \"Topic2\", \"Topic2\", \"Topic2\", \"Topic3\", \"Topic3\", \"Topic3\", \"Topic3\", \"Topic3\", \"Topic3\", \"Topic3\", \"Topic3\", \"Topic3\", \"Topic3\", \"Topic3\", \"Topic3\", \"Topic3\", \"Topic3\", \"Topic3\", \"Topic3\", \"Topic3\", \"Topic3\", \"Topic3\", \"Topic3\", \"Topic3\", \"Topic3\", \"Topic3\", \"Topic3\", \"Topic3\", \"Topic3\", \"Topic3\", \"Topic3\", \"Topic3\", \"Topic3\", \"Topic3\", \"Topic3\", \"Topic3\", \"Topic3\", \"Topic3\", \"Topic3\", \"Topic3\", \"Topic3\", \"Topic3\", \"Topic3\", \"Topic3\", \"Topic3\", \"Topic3\", \"Topic3\", \"Topic3\", \"Topic3\", \"Topic3\", \"Topic3\", \"Topic3\", \"Topic3\", \"Topic3\", \"Topic3\", \"Topic3\", \"Topic3\", \"Topic3\", \"Topic3\", \"Topic3\", \"Topic3\", \"Topic3\", \"Topic3\", \"Topic3\", \"Topic3\", \"Topic3\", \"Topic3\", \"Topic3\", \"Topic3\", \"Topic3\", \"Topic3\", \"Topic3\", \"Topic3\", \"Topic3\", \"Topic3\", \"Topic3\", \"Topic3\", \"Topic3\", \"Topic3\", \"Topic3\", \"Topic3\", \"Topic3\", \"Topic3\", \"Topic3\", \"Topic3\", \"Topic3\", \"Topic3\", \"Topic3\", \"Topic3\", \"Topic3\", \"Topic3\", \"Topic3\", \"Topic3\", \"Topic3\", \"Topic3\", \"Topic3\", \"Topic3\", \"Topic3\", \"Topic4\", \"Topic4\", \"Topic4\", \"Topic4\", \"Topic4\", \"Topic4\", \"Topic4\", \"Topic4\", \"Topic4\", \"Topic4\", \"Topic4\", \"Topic4\", \"Topic4\", \"Topic4\", \"Topic4\", \"Topic4\", \"Topic4\", \"Topic4\", \"Topic4\", \"Topic4\", \"Topic4\", \"Topic4\", \"Topic4\", \"Topic4\", \"Topic4\", \"Topic4\", \"Topic4\", \"Topic4\", \"Topic4\", \"Topic4\", \"Topic4\", \"Topic4\", \"Topic4\", \"Topic4\", \"Topic4\", \"Topic4\", \"Topic4\", \"Topic4\", \"Topic4\", \"Topic4\", \"Topic4\", \"Topic4\", \"Topic4\", \"Topic4\", \"Topic4\", \"Topic4\", \"Topic4\", \"Topic4\", \"Topic4\", \"Topic4\", \"Topic4\", \"Topic4\", \"Topic4\", \"Topic4\", \"Topic4\", \"Topic4\", \"Topic4\", \"Topic4\", \"Topic4\", \"Topic4\", \"Topic4\", \"Topic4\", \"Topic4\", \"Topic4\", \"Topic4\", \"Topic4\", \"Topic4\", \"Topic4\", \"Topic4\", \"Topic4\", \"Topic4\", \"Topic4\", \"Topic4\", \"Topic4\", \"Topic4\", \"Topic4\", \"Topic4\", \"Topic4\", \"Topic4\", \"Topic4\", \"Topic4\", \"Topic4\", \"Topic4\", \"Topic4\", \"Topic4\", \"Topic4\", \"Topic4\", \"Topic4\", \"Topic4\", \"Topic4\", \"Topic4\", \"Topic4\", \"Topic4\", \"Topic4\", \"Topic4\", \"Topic4\", \"Topic4\"], \"logprob\": [30.0, 29.0, 28.0, 27.0, 26.0, 25.0, 24.0, 23.0, 22.0, 21.0, 20.0, 19.0, 18.0, 17.0, 16.0, 15.0, 14.0, 13.0, 12.0, 11.0, 10.0, 9.0, 8.0, 7.0, 6.0, 5.0, 4.0, 3.0, 2.0, 1.0, -10.2974, -10.3473, -10.8485, -10.2052, -11.8305, -11.0415, -11.4265, -10.6348, -10.7843, -10.6231, -10.5155, -11.856, -11.8599, -10.4687, -11.8617, -11.8674, -10.8098, -11.0793, -11.2826, -10.8723, -11.8732, -11.0864, -11.0867, -11.2919, -9.6214, -11.2924, -10.9051, -11.2943, -11.2963, -10.7663, -10.1165, -9.6605, -10.7352, -9.7398, -8.334, -9.1683, -10.4651, -6.9815, -8.8536, -8.2482, -10.2074, -10.6381, -6.0558, -5.7618, -9.2463, -8.9076, -10.2174, -5.9529, -7.7815, -6.5247, -6.7847, -9.0498, -6.4841, -7.0324, -7.6521, -6.8832, -7.7829, -5.6103, -6.632, -7.2113, -6.134, -7.7584, -6.3306, -5.517, -7.0739, -5.9316, -6.1911, -6.7746, -5.2736, -7.3609, -6.5847, -6.279, -6.1362, -6.4253, -5.6974, -6.3464, -5.8083, -6.0473, -6.7183, -6.3536, -6.133, -6.2152, -6.1097, -6.0852, -5.9977, -6.1899, -6.0422, -5.9344, -5.5799, -6.2826, -6.0152, -6.2487, -6.0453, -6.0539, -6.1486, -6.1684, -6.2025, -6.1357, -6.2287, -6.1912, -6.2101, -11.1882, -11.8161, -11.8171, -10.8793, -11.728, -11.0432, -10.3119, -11.7378, -9.8607, -11.7357, -11.5084, -11.6432, -11.8477, -11.7448, -9.4804, -11.8566, -11.5232, -11.8572, -10.0905, -10.9054, -11.864, -11.0126, -10.4288, -11.4256, -11.8741, -11.5918, -11.1759, -9.9464, -10.4425, -11.3024, -9.1764, -10.6454, -9.2307, -10.7566, -9.8068, -10.6601, -10.6803, -8.4432, -9.8509, -10.5194, -9.6158, -10.677, -8.9646, -9.337, -10.8184, -6.426, -10.4517, -4.8171, -8.1743, -8.0925, -6.2394, -7.2205, -10.1032, -9.5538, -10.0419, -8.586, -5.5469, -7.1045, -6.8007, -7.1957, -8.8536, -5.9332, -5.7708, -6.8966, -6.4142, -8.0887, -5.911, -6.3723, -7.0601, -6.3032, -6.7075, -6.3336, -6.867, -7.592, -5.8427, -5.8181, -6.3136, -6.1083, -6.3449, -5.866, -6.601, -5.9283, -5.5727, -6.4567, -5.8819, -6.1575, -6.1833, -6.1538, -6.0961, -6.1661, -6.2721, -6.1289, -6.2758, -6.0614, -6.2421, -5.9612, -6.1046, -6.2278, -6.2507, -6.2031, -6.186, -6.263, -6.2718, -11.0723, -10.3434, -11.0495, -10.6781, -8.3305, -11.7439, -11.7457, -8.351, -10.3189, -10.7601, -9.3537, -10.7669, -11.7671, -10.4041, -10.7756, -11.3579, -9.8788, -11.1973, -9.6888, -11.7887, -11.4548, -10.3795, -11.7931, -11.4586, -11.7999, -11.1798, -11.8049, -11.8062, -10.2297, -10.8715, -10.4751, -10.5828, -11.0049, -9.1338, -10.0087, -10.4893, -9.5652, -9.4611, -9.5818, -5.4076, -9.834, -7.7162, -10.0336, -6.912, -9.7643, -5.8364, -6.5946, -6.7133, -7.8187, -8.3237, -7.4936, -6.3528, -7.0812, -9.1814, -5.3771, -7.2766, -6.5143, -6.1515, -6.6619, -6.6162, -5.4162, -7.7493, -6.8496, -5.9853, -6.3182, -6.3458, -5.9723, -5.7392, -6.1945, -6.1537, -6.4436, -6.2052, -6.512, -6.0623, -6.604, -5.3669, -5.9153, -5.8838, -6.3516, -6.0922, -6.0869, -5.8934, -6.2592, -5.7156, -6.2715, -6.1399, -6.2839, -6.062, -6.0707, -6.0551, -6.2031, -6.2099, -6.1725, -6.2333, -6.2573, -10.5751, -10.4377, -11.447, -10.6118, -11.4642, -11.4755, -8.7888, -10.6464, -11.4956, -10.5404, -11.404, -10.5547, -10.5601, -10.5672, -11.5253, -10.7416, -11.1979, -11.5285, -10.7714, -10.4366, -10.3158, -11.5451, -11.2095, -11.5437, -11.4421, -10.2568, -10.9686, -10.7567, -10.6001, -11.4568, -9.7572, -10.5766, -10.0978, -8.8362, -9.6579, -10.0181, -9.1651, -9.3171, -9.8358, -10.1993, -10.6109, -8.8692, -9.6314, -8.8318, -5.8978, -9.0267, -8.3858, -6.7076, -8.2042, -5.5962, -5.8592, -6.9198, -8.837, -5.5534, -6.1006, -6.9163, -8.2164, -7.0986, -6.9431, -6.4361, -6.3117, -7.6549, -8.6178, -6.2045, -6.214, -8.0192, -6.1783, -6.1627, -7.2176, -6.1869, -6.0317, -7.3473, -6.2416, -5.8723, -6.1575, -6.1626, -5.6967, -5.8057, -6.7411, -5.8336, -6.2365, -6.1623, -6.8272, -6.2492, -5.8656, -6.1576, -6.2517, -5.9563, -5.9964, -5.7361, -6.0343, -6.0759, -5.8278, -6.203, -6.1205, -6.1034, -6.2081], \"loglift\": [30.0, 29.0, 28.0, 27.0, 26.0, 25.0, 24.0, 23.0, 22.0, 21.0, 20.0, 19.0, 18.0, 17.0, 16.0, 15.0, 14.0, 13.0, 12.0, 11.0, 10.0, 9.0, 8.0, 7.0, 6.0, 5.0, 4.0, 3.0, 2.0, 1.0, 1.1265, 1.0814, 1.0633, 1.0543, 1.0431, 1.0423, 1.0346, 1.0327, 1.032, 1.0265, 1.0234, 1.0208, 1.0183, 1.0168, 1.0168, 1.0103, 1.01, 1.0098, 1.0078, 1.0063, 1.006, 1.0032, 1.0014, 1.0001, 0.9997, 0.999, 0.998, 0.9974, 0.9966, 0.9962, 0.9905, 0.9846, 0.9947, 0.9838, 0.9517, 0.9675, 0.9895, 0.8958, 0.9395, 0.902, 0.9707, 0.9849, 0.7416, 0.6982, 0.8989, 0.8734, 0.9572, 0.6279, 0.7684, 0.6503, 0.6713, 0.8666, 0.6434, 0.6743, 0.7241, 0.6409, 0.7184, 0.4662, 0.5828, 0.6467, 0.5096, 0.708, 0.4926, 0.3634, 0.5861, 0.408, 0.4253, 0.5184, 0.2565, 0.6053, 0.4682, 0.3926, 0.3632, 0.4179, 0.2306, 0.3745, 0.2322, 0.2747, 0.4649, 0.3549, 0.2779, 0.2966, 0.2554, 0.1996, 0.158, 0.2396, 0.1378, 0.0099, -0.2722, 0.2617, -0.0027, 0.2187, -0.061, -0.1046, 0.0448, 0.0461, 0.1076, -0.1863, 0.0905, -0.3939, -0.1967, 1.2193, 1.1769, 1.1767, 1.1583, 1.1579, 1.1572, 1.1521, 1.15, 1.1499, 1.1498, 1.1496, 1.1476, 1.146, 1.1452, 1.1452, 1.1367, 1.136, 1.1359, 1.1309, 1.1301, 1.1262, 1.1256, 1.1246, 1.12, 1.1196, 1.1094, 1.1059, 1.1059, 1.0973, 1.0969, 1.0928, 1.0951, 1.0657, 1.0885, 1.0421, 1.0825, 1.0817, 0.9565, 1.0284, 1.0695, 1.0048, 1.0784, 0.9486, 0.9581, 1.0852, 0.6639, 1.0531, 0.4906, 0.8128, 0.782, 0.4894, 0.619, 1.0068, 0.9239, 0.992, 0.7584, 0.2426, 0.5133, 0.4592, 0.521, 0.797, 0.2812, 0.2417, 0.4343, 0.342, 0.6604, 0.2447, 0.3207, 0.456, 0.2879, 0.3709, 0.2602, 0.3849, 0.5546, 0.1417, 0.1313, 0.2447, 0.191, 0.2321, 0.0782, 0.2905, 0.0852, -0.0426, 0.2432, 0.0462, 0.1374, 0.1387, 0.1222, 0.0839, 0.1051, 0.1488, 0.0645, 0.14, 0.0151, 0.068, -0.1639, -0.064, 0.0312, 0.0685, -0.126, -0.2366, 0.0534, -0.0057, 1.282, 1.2648, 1.246, 1.2288, 1.216, 1.2001, 1.1988, 1.1945, 1.189, 1.185, 1.1842, 1.1803, 1.1785, 1.1726, 1.1723, 1.1721, 1.1666, 1.1604, 1.16, 1.1571, 1.155, 1.1546, 1.1536, 1.151, 1.1483, 1.1474, 1.1434, 1.1419, 1.1408, 1.1398, 1.1344, 1.133, 1.1333, 1.0911, 1.1074, 1.1214, 1.0808, 1.0658, 1.0663, 0.8324, 1.0744, 0.9229, 1.0799, 0.7995, 1.0465, 0.6391, 0.718, 0.7125, 0.8235, 0.8858, 0.7832, 0.6018, 0.6961, 0.9824, 0.4125, 0.6924, 0.5747, 0.5085, 0.5901, 0.581, 0.3811, 0.7532, 0.5996, 0.4448, 0.487, 0.4912, 0.4152, 0.3498, 0.4276, 0.4172, 0.4706, 0.4102, 0.4663, 0.3106, 0.4334, -0.0592, 0.1618, 0.1296, 0.3268, 0.2027, 0.1721, 0.0559, 0.2588, -0.1856, 0.2605, 0.1448, 0.2228, -0.0777, -0.1213, -0.1747, 0.0631, -0.0165, -0.2282, -0.2208, -0.0774, 1.585, 1.5596, 1.5037, 1.5011, 1.487, 1.477, 1.4767, 1.4633, 1.4568, 1.4541, 1.4456, 1.4431, 1.4341, 1.4292, 1.4268, 1.4227, 1.4191, 1.4191, 1.4181, 1.4148, 1.4135, 1.4132, 1.4111, 1.4104, 1.4088, 1.405, 1.4043, 1.4026, 1.3983, 1.3916, 1.3911, 1.3872, 1.3599, 1.2769, 1.3167, 1.3331, 1.275, 1.2482, 1.2893, 1.3238, 1.3671, 1.171, 1.2411, 1.1117, 0.6357, 1.1384, 1.032, 0.7522, 0.9966, 0.4928, 0.5416, 0.6968, 1.0805, 0.396, 0.5148, 0.6849, 0.9506, 0.7041, 0.6649, 0.5253, 0.4935, 0.8078, 1.0232, 0.4554, 0.4358, 0.8718, 0.3513, 0.3437, 0.6409, 0.3452, 0.2988, 0.677, 0.3292, 0.2048, 0.2827, 0.2676, 0.1006, 0.1385, 0.4561, 0.1158, 0.265, 0.2252, 0.4744, 0.2262, 0.0148, 0.1418, 0.1641, -0.0282, -0.012, -0.206, -0.0209, -0.0353, -0.5201, 0.1163, -0.1081, -0.3139, 0.1232]}, \"token.table\": {\"Topic\": [2, 1, 2, 3, 4, 1, 2, 3, 4, 1, 2, 3, 4, 1, 2, 3, 4, 1, 2, 3, 4, 1, 2, 3, 4, 1, 2, 3, 4, 1, 2, 3, 4, 1, 2, 3, 4, 2, 3, 4, 1, 2, 3, 4, 1, 2, 3, 4, 1, 2, 3, 4, 1, 2, 3, 4, 1, 2, 3, 4, 1, 2, 3, 4, 4, 1, 2, 3, 4, 1, 2, 3, 4, 1, 2, 3, 4, 3, 1, 2, 3, 4, 1, 2, 3, 4, 1, 2, 3, 4, 1, 2, 3, 4, 1, 2, 3, 4, 1, 2, 3, 4, 1, 1, 2, 3, 4, 1, 2, 3, 4, 1, 2, 3, 4, 1, 2, 3, 4, 1, 2, 3, 4, 3, 1, 2, 3, 4, 1, 2, 3, 4, 1, 2, 3, 4, 1, 2, 3, 4, 2, 1, 3, 1, 3, 4, 1, 2, 3, 4, 1, 2, 3, 4, 1, 2, 4, 1, 2, 3, 4, 1, 2, 3, 4, 1, 2, 3, 4, 1, 2, 3, 1, 2, 3, 4, 1, 2, 3, 4, 2, 3, 1, 2, 3, 4, 1, 2, 3, 4, 1, 2, 3, 4, 1, 2, 3, 4, 1, 2, 3, 4, 1, 2, 3, 4, 1, 2, 3, 4, 1, 2, 3, 4, 1, 2, 3, 4, 2, 3, 4, 1, 2, 3, 4, 1, 2, 3, 4, 3, 4, 1, 2, 3, 4, 1, 2, 3, 4, 1, 2, 3, 4, 2, 1, 2, 3, 1, 1, 2, 3, 4, 2, 1, 2, 3, 4, 1, 2, 3, 4, 1, 2, 3, 4, 1, 2, 3, 4, 1, 2, 3, 4, 1, 2, 3, 4, 1, 2, 3, 4, 1, 2, 3, 4, 1, 2, 3, 4, 1, 2, 3, 4, 1, 2, 3, 4, 1, 2, 3, 4, 1, 2, 3, 4, 2, 1, 2, 3, 4, 1, 1, 2, 3, 4, 1, 2, 3, 4, 2, 4, 1, 2, 3, 4, 1, 2, 3, 4, 1, 2, 3, 4, 1, 2, 3, 4, 1, 2, 3, 4, 1, 2, 3, 4, 1, 2, 3, 4, 3, 4, 1, 2, 3, 4, 1, 2, 3, 4, 1, 2, 3, 4, 4, 1, 2, 3, 4, 1, 2, 3, 4, 1, 2, 3, 4, 1, 2, 3, 4, 1, 2, 3, 4, 1, 2, 3, 4, 1, 2, 3, 4, 1, 2, 3, 4, 1, 2, 3, 4, 1, 2, 3, 4, 1, 2, 3, 4, 1, 2, 3, 4, 3, 1, 2, 3, 4, 1, 2, 3, 4, 1, 2, 3, 4, 1, 2, 3, 4, 1, 2, 3, 4, 1, 2, 3, 4, 1, 2, 3, 1, 2, 3, 1, 1, 2, 3, 4, 1, 2, 3, 4, 1, 2, 3, 4, 3, 4, 3, 4, 1, 2, 3, 4, 1, 2, 3, 4, 2, 1, 2, 3, 4, 2, 3, 4, 1, 2, 3, 4, 3, 4, 1, 2, 3, 4, 1, 2, 3, 4, 1, 2, 3, 4, 1, 2, 3, 4, 1, 2, 3, 4, 3, 4, 1, 2, 3, 4, 1, 2, 3, 4, 1, 2, 3, 4, 1, 2, 3, 4, 1, 2, 3, 4, 1, 2, 3, 4, 1, 2, 3, 4, 1, 2, 3, 4, 2, 1, 3, 4, 1, 2, 3, 4, 1, 2, 3, 4, 1, 2, 3, 4, 1, 2, 3, 4, 1, 2, 4, 1, 2, 3, 4, 1, 2, 3, 4, 1, 2, 3, 4, 3, 1, 2, 3, 4, 1, 2, 3, 4, 1, 2, 3, 4, 1, 2, 3, 4, 2, 1, 2, 3, 4, 1, 2, 3, 4, 2, 1, 2, 3, 4, 1, 2, 3, 4, 1, 2, 3, 4, 1, 2, 3, 4, 1, 2, 3, 4, 1, 2, 4, 2, 1, 4, 1, 2, 3, 4, 1, 2, 3, 4, 2, 3, 4, 1, 2, 3, 4, 1, 2, 3, 4, 1, 2, 3, 4, 1, 2, 3, 4, 1, 2, 4, 1, 2, 3, 1, 2, 3, 4, 1, 2, 3, 4, 1, 2, 3, 4, 1, 2, 3, 4, 1, 2, 3, 4, 1, 2, 3, 4, 1, 2, 3, 4, 1, 3, 4, 1, 2, 3, 4, 1, 2, 4, 1, 2, 3, 4, 1, 2, 3, 4, 1, 2, 3, 4, 2, 3, 1, 2, 3, 4, 2, 3, 4, 1, 2, 3, 4, 1, 2, 3, 4, 1, 2, 3, 4, 2, 4, 1, 2, 3, 4, 2, 3, 4, 1, 2, 3, 4, 1, 2, 3, 4, 1, 2, 3, 4, 1, 2, 3, 4, 1, 2, 3, 4, 1, 2, 3, 4, 1, 2, 3, 4, 1, 2, 3, 4, 1, 2, 3, 4, 1, 2, 3, 4, 1, 2, 3, 4, 1, 2, 3, 4, 1, 1, 2, 3, 4, 1, 2, 3, 4, 1, 2, 3, 4, 1, 2, 3, 4, 1, 2, 3, 4, 1, 2, 3, 4, 1, 2, 3, 4, 1, 2, 3, 4, 3, 4, 1, 1, 2, 3, 4, 1, 2, 3, 4, 1, 2, 3, 4, 1, 2, 3, 4, 1, 2, 3, 4, 1, 2, 3, 4, 1, 3, 4, 2, 3, 1, 2, 3, 4, 1, 2, 3, 4, 1, 2, 3, 4, 1, 2, 3, 4, 2, 4, 1, 2, 3, 4, 1, 2, 3, 4, 1, 2, 3, 4, 4, 1, 2, 3, 4, 2, 1, 2, 3, 4, 1, 2, 3, 4, 1, 2, 3, 4, 1, 2, 3, 4, 1, 2, 3, 4, 1, 2, 3, 4, 1, 2, 3, 4, 1, 2, 3, 4, 1, 2, 3, 4, 1, 2, 3, 4, 1, 2, 3, 4, 1, 2, 3, 4, 1, 2, 3, 4, 1, 2, 3, 2, 1, 2, 3, 4, 1, 2, 3, 4, 1, 2, 3, 4, 1, 2, 3, 4, 2, 3, 4, 1, 2, 3, 4, 1, 3, 4, 1, 2, 3, 4, 1, 2, 3, 4, 1, 2, 3, 4, 1, 2, 3, 4, 1, 2, 4, 1, 2, 3, 4, 1, 1, 2, 3, 4, 1, 2, 3, 4, 1, 2, 3, 4, 3, 4, 1, 2, 3, 4, 1, 2, 3, 4, 1, 2, 3, 4, 1, 2, 3, 4, 1, 2, 3, 4, 1, 2, 3, 4, 1, 2, 3, 4, 1, 2, 3, 4, 1, 2, 3, 4, 1, 2, 3, 4, 1, 2, 3, 4, 1, 2, 3, 4, 1, 2, 3, 4, 1, 2, 3, 4, 1, 2, 3, 4, 1, 2, 3, 4, 4, 1, 2, 3, 4, 1, 2, 3, 4, 1, 2, 3, 4, 1, 2, 3, 4, 1, 2, 3, 4, 2, 4, 1, 2, 3, 4, 1, 2, 3, 4, 1, 2, 3, 4, 1, 2, 3, 4, 1, 2, 3, 4, 3, 4, 1, 2, 3, 4, 2, 3, 1, 2, 4, 3, 1, 2, 3, 4, 1, 2, 3, 4, 1, 2, 3, 4, 1, 2, 3, 4, 1, 2, 3, 4, 1, 2, 3, 4, 3, 1, 2, 3, 4, 1, 2, 3, 4, 1, 2, 3, 4, 1, 2, 4, 1, 2, 3, 4, 1, 3, 4], \"Freq\": [0.7925999721232764, 0.07181257556141685, 0.07181257556141685, 0.07181257556141685, 0.7181257556141684, 0.3696209661342332, 0.2085165397956211, 0.2929391295736626, 0.12917381931654484, 0.44805838150515753, 0.19482347749071635, 0.21726201328946432, 0.13961755608109838, 0.2511666852068205, 0.2027323381972408, 0.26794572684942486, 0.2781515356835863, 0.12807658822734883, 0.12807658822734883, 0.19211488234102325, 0.548899663831495, 0.09730327688880547, 0.7784262151104437, 0.09730327688880547, 0.09730327688880547, 0.17944844784311673, 0.12154132460296203, 0.45689356578495677, 0.242446307192296, 0.1942579588072124, 0.19059271430141592, 0.24007351512966812, 0.37568756184413715, 0.08444354772399593, 0.07777695185104888, 0.5377720670843951, 0.2999968142826171, 0.0496079837917959, 0.8929437082523262, 0.0496079837917959, 0.3312689483888017, 0.27493069186009395, 0.1832871279067293, 0.21032949104050902, 0.28813254256172555, 0.21715649696213904, 0.3165229608015601, 0.1781951783138554, 0.17895317178151168, 0.7158126871260467, 0.04473829294537792, 0.04473829294537792, 0.10207903558860101, 0.05103951779430051, 0.8336454573069082, 0.03402634519620033, 0.04487571947566305, 0.04487571947566305, 0.852638670037598, 0.04487571947566305, 0.05049755072323399, 0.06943413224444674, 0.8521461684545736, 0.03156096920202124, 0.7597284050337522, 0.5759244223103838, 0.1887908350207697, 0.15058316602847108, 0.08428162277712933, 0.43504751149265086, 0.2821362565917191, 0.17659750811107605, 0.1058385744706449, 0.31531052508350854, 0.2901336390502246, 0.2181996789551276, 0.17647798209997134, 0.7550765637531366, 0.7219302494402566, 0.16449043658132428, 0.07310686070281079, 0.036553430351405396, 0.08380878036071353, 0.6984065030059461, 0.19555382084166492, 0.027936260120237845, 0.2277228377296945, 0.13232543273482247, 0.39529775148901514, 0.24450830488421746, 0.1751727903662711, 0.1286667398265531, 0.46118500118553674, 0.23485555522557586, 0.35734432789213366, 0.37178788605543844, 0.1492501010208163, 0.12143287789148853, 0.4400425057676247, 0.24471751596260763, 0.17960918602760192, 0.1354552611291498, 0.8820010086111715, 0.16825959103120855, 0.06730383641248341, 0.7403422005373176, 0.03365191820624171, 0.08429272425736292, 0.08429272425736292, 0.7586345183162663, 0.08429272425736292, 0.0762127811715661, 0.8383405928872271, 0.0762127811715661, 0.0762127811715661, 0.19622759474130125, 0.4976786823148944, 0.14788166560214006, 0.15925717834076622, 0.09099047538291684, 0.060660316921944554, 0.7582539615243069, 0.060660316921944554, 0.7567557627290978, 0.15405274692471022, 0.1225945283334781, 0.5824396647994299, 0.14109936279890875, 0.18526542330491172, 0.14469635250821572, 0.5192841061977087, 0.15078171312772012, 0.09573481211139437, 0.7180110908354578, 0.11966851513924297, 0.047867406055697184, 0.15512862309608252, 0.12410289847686601, 0.11376099027046051, 0.5998306759715191, 0.7931463540929613, 0.12471784224066641, 0.8730248956846649, 0.9121622227667447, 0.041461919216670216, 0.041461919216670216, 0.1441599188810738, 0.6407107505825502, 0.08008884382281878, 0.12814215011651003, 0.09074979528665797, 0.1209997270488773, 0.7562482940554831, 0.06049986352443865, 0.7863685571614585, 0.09829606964518231, 0.09829606964518231, 0.8028632165500947, 0.08028632165500948, 0.08028632165500948, 0.08028632165500948, 0.8581669915505841, 0.061297642253613144, 0.061297642253613144, 0.061297642253613144, 0.15317677265846616, 0.32728819567063994, 0.38272079097341494, 0.13681236287493417, 0.8780514530395294, 0.07982285936722994, 0.07982285936722994, 0.39324402108686735, 0.2856820599761851, 0.18407834160924333, 0.1370395831060295, 0.27838048237096685, 0.40666641894744926, 0.15266026452601408, 0.16292313945213266, 0.8826897830542888, 0.1103362228817861, 0.20454814742662003, 0.49892431726810493, 0.15043488091164117, 0.1461058195904429, 0.16165710450773704, 0.19353768886284856, 0.3844991688889204, 0.2601970925144453, 0.20084392062202805, 0.44683880014358174, 0.20084392062202805, 0.15257910248805232, 0.17369543141024316, 0.7482264737672013, 0.040083561094671497, 0.040083561094671497, 0.05265584019543986, 0.10531168039087972, 0.13163960048859966, 0.7108538426384381, 0.06306692645456072, 0.07568031174547286, 0.8387901218456575, 0.025226770581824286, 0.08872507719281349, 0.08872507719281349, 0.08872507719281349, 0.7985256947353213, 0.4316110099067845, 0.21395785508221596, 0.18661263698880667, 0.16813613827704363, 0.181016456364019, 0.1819844588044683, 0.4041410188875825, 0.23280458692805653, 0.7600723730007979, 0.12667872883346631, 0.12667872883346631, 0.10624384781641028, 0.17463069238789275, 0.4123563901839985, 0.30651960691860897, 0.55503030530912, 0.19497551708751287, 0.1286838412777585, 0.12088482059425798, 0.1714739933742487, 0.6858959734969948, 0.2162668950688203, 0.29446509441573837, 0.3103491036580811, 0.1788783810060751, 0.1535439991714837, 0.1378762441539854, 0.311004937097342, 0.39717758969358286, 0.259978633593756, 0.16039254602383277, 0.22585255997166392, 0.3533599805051171, 0.8093576038544277, 0.7871150977844195, 0.09838938722305243, 0.09838938722305243, 0.8792586650150221, 0.30859709748008096, 0.09092593050752384, 0.2314478231100607, 0.36783671887134645, 0.7931019205368378, 0.06948742632745554, 0.06948742632745554, 0.8338491159294664, 0.06948742632745554, 0.2880897009611426, 0.2649859442555845, 0.3010560950305885, 0.14616662405557154, 0.3180177016129082, 0.4324635623844325, 0.13166337964865626, 0.11849704168379065, 0.14130040395281915, 0.02826008079056383, 0.8195423429263511, 0.02826008079056383, 0.0821845228996624, 0.0821845228996624, 0.0821845228996624, 0.821845228996624, 0.12342457328165295, 0.13885264494185956, 0.0771403583010331, 0.6634070813888846, 0.12889159275366135, 0.15232642779978162, 0.14060901027672149, 0.5858708761530061, 0.12574417606530755, 0.7544650563918454, 0.06287208803265378, 0.06287208803265378, 0.4596032295730576, 0.21436875565183092, 0.21690566400274017, 0.1090870590890974, 0.07822793465440514, 0.07822793465440514, 0.7822793465440514, 0.03911396732720257, 0.32035628709219466, 0.27091704715123244, 0.22996737366477887, 0.17878028180671193, 0.04967633592484385, 0.04967633592484385, 0.7948213747975016, 0.0993526718496877, 0.17717833943968797, 0.09691806601829087, 0.516391570503706, 0.20973675224270757, 0.8900819694040302, 0.13332371598219517, 0.7332804379020734, 0.06666185799109758, 0.06666185799109758, 0.8828975957754538, 0.8423112476447339, 0.052644452977795866, 0.052644452977795866, 0.052644452977795866, 0.09732738210651164, 0.7299553657988374, 0.04866369105325582, 0.09732738210651164, 0.17189092101454972, 0.6875636840581989, 0.1135041322311109, 0.7377768595022208, 0.05675206611555545, 0.05675206611555545, 0.20455670577266527, 0.1707543199805894, 0.33523603228842247, 0.28958538755891794, 0.09213657882173042, 0.04606828941086521, 0.7831609199847085, 0.09213657882173042, 0.11049836421210685, 0.055249182106053424, 0.7734885494847479, 0.055249182106053424, 0.3766100762414221, 0.2375227774598946, 0.2357805565983306, 0.15012136423809966, 0.16033166427798412, 0.09254042367722574, 0.5078962787866342, 0.23888341925981527, 0.04696857725402416, 0.7984658133184107, 0.09393715450804832, 0.04696857725402416, 0.13653704665862826, 0.8192222799517695, 0.8143053006459724, 0.07574933029264859, 0.056811997719486446, 0.037874665146324295, 0.20414194875861907, 0.2179594169060365, 0.37099159101184265, 0.20696487235862907, 0.28359248768218437, 0.20028719442554271, 0.26384229657574654, 0.25244795555280164, 0.761063540484748, 0.24645977657126997, 0.16995455426060493, 0.3907414374390343, 0.19306015831416148, 0.21101690699311243, 0.4293735324903331, 0.19175014591982825, 0.1678960607814764, 0.06477745315774938, 0.05182196252619951, 0.06477745315774938, 0.8161959097876422, 0.09266407311094194, 0.7876446214430064, 0.09266407311094194, 0.04633203655547097, 0.25218014559770613, 0.5674053275948389, 0.08406004853256871, 0.09807005662133017, 0.5039226246375108, 0.20226172700227238, 0.16728153106523555, 0.12675991795005426, 0.2830245158898201, 0.28517225673552693, 0.23649013089950394, 0.19520577908758246, 0.8067573543791227, 0.09681088252549472, 0.06454058835032982, 0.06454058835032982, 0.5420206663834576, 0.20846948707056062, 0.12814741999337403, 0.12201596449129871, 0.3054286420795803, 0.36163061302061983, 0.2104666911792032, 0.12248153667150682, 0.3984614782594338, 0.29501716254242893, 0.161945591353078, 0.14462117925484175, 0.3165988274337609, 0.27376746584230366, 0.2492608620451297, 0.16028643564638104, 0.9415162936521552, 0.740899463690113, 0.1201137172274501, 0.07373317295150403, 0.06421921515130996, 0.21192146086008198, 0.1390734586894288, 0.2704206141183338, 0.3785888597656673, 0.21700485923813223, 0.20367999946035217, 0.263165980611156, 0.31646541972227615, 0.06964349908595571, 0.09285799878127428, 0.8125074893361499, 0.02321449969531857, 0.26531685429823326, 0.2953787431948106, 0.21870713665124633, 0.22063771667212745, 0.09614616512394376, 0.04807308256197188, 0.817242403553522, 0.04807308256197188, 0.10181477199897211, 0.10181477199897211, 0.8145181759917769, 0.7861281138699742, 0.09826601423374677, 0.09826601423374677, 0.8841372813607885, 0.6151754303705175, 0.19291215586531907, 0.07502139394762408, 0.12003423031619853, 0.23488506968051442, 0.21350411405289932, 0.3283503899955176, 0.22327826519695196, 0.23320717081512665, 0.1381968419645195, 0.14251549327591073, 0.48368894687581826, 0.7579417147532311, 0.18948542868830778, 0.7547131759904223, 0.9477583903299135, 0.13668620355787037, 0.04556206785262346, 0.09112413570524693, 0.6834310177893519, 0.2809254448740852, 0.3236961008410739, 0.20283659572223453, 0.19246795185144938, 0.8898046005650334, 0.407070987719127, 0.2653095028087375, 0.20429438831839855, 0.12324446011481399, 0.10658748100267001, 0.10658748100267001, 0.7461123670186901, 0.07297820749062525, 0.07297820749062525, 0.07297820749062525, 0.8027602823968777, 0.19059527207708643, 0.7623810883083457, 0.354408299817358, 0.3278329923925411, 0.16179047160228519, 0.15583760273912622, 0.5797931269123082, 0.15908957750642602, 0.15496503290440758, 0.10605971833761735, 0.18088263612590966, 0.0738816401077659, 0.6369106905841889, 0.10954863878048049, 0.38182877602773196, 0.24084584334056938, 0.19669393028128326, 0.18077650239724877, 0.3906061913506299, 0.2361987774543071, 0.2023811944447559, 0.17066082588540946, 0.7578123587622169, 0.18945308969055422, 0.21009881997301932, 0.18572735685614908, 0.41389467534684804, 0.1903495308955555, 0.7994808805118737, 0.06662340670932282, 0.06662340670932282, 0.06662340670932282, 0.17725626917277618, 0.14308638595874704, 0.2605453595069722, 0.4207166870727338, 0.19763012457252505, 0.24730186711214364, 0.3455885066054315, 0.20925542601796768, 0.07080057311472854, 0.07080057311472854, 0.07080057311472854, 0.7788063042620139, 0.15736376582992967, 0.05245458860997656, 0.15736376582992967, 0.6469399261897109, 0.06739521461352263, 0.8087425753622716, 0.10109282192028395, 0.06739521461352263, 0.07428725999497517, 0.798588044945983, 0.03714362999748758, 0.07428725999497517, 0.790374787707639, 0.13504394030036734, 0.810263641802204, 0.13504394030036734, 0.0994764074934089, 0.0994764074934089, 0.7958112599472712, 0.04973820374670445, 0.26103985164935056, 0.4052332935128014, 0.1964014121933209, 0.13756385832949905, 0.2560914839414885, 0.3275333142255948, 0.21872191117749448, 0.1978389146329096, 0.8135469925500737, 0.05546911312841411, 0.07395881750455216, 0.03697940875227608, 0.7859464073237412, 0.09824330091546765, 0.09824330091546765, 0.044702270628317706, 0.11175567657079426, 0.7152363300530833, 0.11175567657079426, 0.07300595422677206, 0.07300595422677206, 0.07300595422677206, 0.8030654964944925, 0.1535461647753985, 0.09812417630617183, 0.38522824772052644, 0.3643314323960639, 0.7559320787185541, 0.621457233043264, 0.18421767979496753, 0.10431603554654788, 0.09099909483847794, 0.8193383474956375, 0.06145037606217281, 0.08193383474956374, 0.04096691737478187, 0.8114673692412976, 0.09016304102681084, 0.060108694017873894, 0.060108694017873894, 0.24859384010835825, 0.2795758617242367, 0.288427867900202, 0.18331029456061432, 0.7927424618590798, 0.28402604309266005, 0.3331210319799064, 0.22504615711402182, 0.15782885689255702, 0.18709883635274205, 0.21993406260007756, 0.3286620287587075, 0.2642306414054453, 0.7932200861940187, 0.4352681203897304, 0.1619339483497402, 0.21279057220833258, 0.19002617867162933, 0.08428916114482837, 0.7586024503034553, 0.08428916114482837, 0.08428916114482837, 0.09397873541662247, 0.14362787865559284, 0.5550064940642044, 0.20746249139141187, 0.3591694849573246, 0.3424104330517221, 0.1646330393079777, 0.133743806383926, 0.21661109569761253, 0.5466851462844506, 0.134092583050903, 0.09799073376796757, 0.08969415423567631, 0.8072473881210868, 0.08969415423567631, 0.7927783965281986, 0.18935451043822757, 0.7574180417529103, 0.508517945808935, 0.23801557046337374, 0.12596924342072705, 0.12795823147473853, 0.07313956745043555, 0.07313956745043555, 0.07313956745043555, 0.8045352419547911, 0.8514489557482662, 0.1419081592913777, 0.1419081592913777, 0.24387872198603738, 0.22720566915037552, 0.2806159570476653, 0.24840022783977622, 0.27260535007091774, 0.2928431838008018, 0.22451887334521015, 0.2101621195026428, 0.11572111181522189, 0.7521872267989423, 0.057860555907610946, 0.11572111181522189, 0.2848207079091726, 0.29592692419242334, 0.234484469593149, 0.18504389388061337, 0.17215894141836813, 0.08607947070918406, 0.7747152363826565, 0.82737219211921, 0.051710762007450624, 0.051710762007450624, 0.624802375332034, 0.15864887900280486, 0.12143494442190002, 0.09401415052018065, 0.0632706199374828, 0.0632706199374828, 0.0632706199374828, 0.7592474392497937, 0.48177187801936094, 0.2655388772807082, 0.14197716257290663, 0.11049268719063025, 0.05599976216274335, 0.05599976216274335, 0.1119995243254867, 0.7839966702784068, 0.30178877942170307, 0.32702996549055124, 0.20321918418933974, 0.16802891748021562, 0.7755053969108293, 0.11309453704949594, 0.03231272487128455, 0.08078181217821138, 0.06967981768310963, 0.06967981768310963, 0.8361578121973156, 0.06967981768310963, 0.8736961541331864, 0.06720739647178357, 0.06720739647178357, 0.05698137490055582, 0.13295654143463023, 0.7407578737072256, 0.07597516653407442, 0.08651261256625968, 0.08651261256625968, 0.7786135130963372, 0.20863485993361994, 0.19450854129228107, 0.2751915535322357, 0.3216454090643307, 0.3056369585763788, 0.2775858187971278, 0.20169285779927698, 0.21494400971953664, 0.10814889707403993, 0.2556246658113671, 0.19007987970588835, 0.44898178482252943, 0.0986449997587776, 0.8878049978289984, 0.17243990295459125, 0.7472395794698954, 0.05747996765153041, 0.05747996765153041, 0.7400562922267269, 0.14801125844534538, 0.14801125844534538, 0.6084180830590477, 0.2029020987558359, 0.11643813621783765, 0.07234151532345853, 0.052341631966459023, 0.052341631966459023, 0.10468326393291805, 0.7851244794968854, 0.25408615124474027, 0.3966222848698384, 0.18867101745544398, 0.16112780322837186, 0.07321265033995202, 0.8785518040794241, 0.11196006731394972, 0.062200037396638735, 0.7588404562389925, 0.062200037396638735, 0.19184800717499903, 0.07673920286999962, 0.7290224272649963, 0.07606232540606583, 0.7606232540606584, 0.07606232540606583, 0.07606232540606583, 0.1762373452171171, 0.20424857889400988, 0.2649395851939442, 0.3548089599073086, 0.16611309327896384, 0.10733461411871509, 0.5775624474007051, 0.15077957697629024, 0.8552331548822484, 0.06108808249158917, 0.06108808249158917, 0.06108808249158917, 0.347453855014249, 0.2792701204565939, 0.23461304191244275, 0.13876370259816717, 0.13073081979611362, 0.12048923483512776, 0.4530395229800804, 0.295198625346063, 0.12529800720614445, 0.03132450180153611, 0.09397350540460835, 0.7517880432368668, 0.08562134176693889, 0.2793959573447479, 0.6128685515949309, 0.022531932043931287, 0.14303859542669767, 0.7672070118341057, 0.052014034700617336, 0.039010526025463, 0.23055458570701787, 0.41931432353112846, 0.238840710232823, 0.11127081506081193, 0.27049368271037944, 0.3107486409358805, 0.20299299056395986, 0.21575675780619194, 0.8084225756419349, 0.08509711322546683, 0.08509711322546683, 0.042548556612733414, 0.8833070203026596, 0.23242211516950284, 0.14931847537417886, 0.38388520060291587, 0.234566725228737, 0.3170168689929592, 0.34024072212686735, 0.18037944181676202, 0.16256697193735675, 0.18178703392038287, 0.4190153416712559, 0.21271345877820733, 0.186690003714916, 0.18587269303833795, 0.16963138976314338, 0.2733952717991087, 0.3717453860766759, 0.2869099845516772, 0.5609251383369869, 0.06769786152342945, 0.08704010767298073, 0.16110785426277602, 0.1728428708078424, 0.35960864260135683, 0.3065027202702936, 0.19128183950442765, 0.6649321087534866, 0.08197793121618328, 0.05465195414412219, 0.18086957113873595, 0.6933333560318211, 0.060289857046245315, 0.060289857046245315, 0.8104409001864671, 0.13507348336441116, 0.8835248901291171, 0.18973205206843152, 0.2465898657176032, 0.2975764920877843, 0.2660574866953087, 0.17347725014014662, 0.6672201928467177, 0.06672201928467178, 0.09341082699854049, 0.15456048676335618, 0.13055677480389558, 0.4800742391892124, 0.23476801209130996, 0.16719070304588574, 0.18792235022357556, 0.3444128482745246, 0.3009432654825943, 0.07424150069693332, 0.07424150069693332, 0.8166565076662665, 0.07424150069693332, 0.16651778505594994, 0.1526413029679541, 0.159579544011952, 0.5203680782998436, 0.9490559650405573, 0.04126330282785032, 0.04126330282785032, 0.8504406559833442, 0.14174010933055736, 0.20508521758230044, 0.19762757330658043, 0.3884754699988699, 0.20881403972016044, 0.04294967760825079, 0.816043874556765, 0.08589935521650158, 0.04294967760825079, 0.7965118020864764, 0.045514960119227225, 0.10240866026826126, 0.056893700149034034, 0.8452587505665788, 0.06501990388973683, 0.06501990388973683, 0.06501990388973683, 0.17168633198727598, 0.8584316599363799, 0.10533494358411163, 0.14044659144548216, 0.6788251919864972, 0.07022329572274108, 0.2418370098680592, 0.34345292777592257, 0.24716186146148433, 0.16773282519289243, 0.5672059885611339, 0.17367431071768663, 0.15416034322131733, 0.10505019168878799, 0.7601337940015132, 0.49527913024181086, 0.25696490439324077, 0.1661982688091767, 0.08164852607333618, 0.8938049955810272, 0.1476004946193349, 0.14814115577178666, 0.4503707399923295, 0.253570080499883, 0.3369408321528779, 0.27491196025433634, 0.2612656084366572, 0.126787014160619, 0.46312373275855295, 0.27268347874939547, 0.15572282717208985, 0.10819702926891958, 0.05458567907738063, 0.8187851861607094, 0.08187851861607094, 0.05458567907738063, 0.8404670965817517, 0.056031139772116774, 0.056031139772116774, 0.056031139772116774, 0.39955279021542706, 0.27139952577133064, 0.16849272884084632, 0.16026018508640757, 0.4551334954219805, 0.236383202282612, 0.19089540768120125, 0.11780827702949635, 0.14461851349916952, 0.12236951142237422, 0.05562250519198828, 0.6674700623038594, 0.06120757081850888, 0.18362271245552664, 0.09181135622776332, 0.6732832790035976, 0.29609969271204895, 0.2552583557862491, 0.2699802330502002, 0.17879957386701914, 0.3811558455141835, 0.26889181815927293, 0.16797272267884053, 0.18202689201588063, 0.574702601860764, 0.20465426955797558, 0.11778062043948799, 0.1027447965535959, 0.7262017525824949, 0.15162454174799342, 0.07980239039368076, 0.03990119519684038, 0.8024647063700643, 0.08024647063700643, 0.08024647063700643, 0.8918818782488913, 0.15380163717106074, 0.10427229638715982, 0.5070240411825646, 0.2359160705759491, 0.04754538303772317, 0.1426361491131695, 0.1664088406320311, 0.6418626710092628, 0.1690095453035779, 0.10328361101885315, 0.15962012612004578, 0.5727545701954584, 0.0981114530373564, 0.6704282624219354, 0.14171654327618147, 0.08721018047765013, 0.07328833998020193, 0.14657667996040386, 0.7328833998020192, 0.6524404530143474, 0.1607799687785356, 0.09553592347710087, 0.09087563452699839, 0.08192053966289366, 0.08192053966289366, 0.8192053966289367, 0.8039249996488957, 0.09647099995786748, 0.06431399997191166, 0.03215699998595583, 0.38467938781234595, 0.270617476309848, 0.19317838443192661, 0.15152342165282812, 0.5774372801294926, 0.15631635462091314, 0.09099011686888975, 0.17498099397863412, 0.782994966659033, 0.08753980993703475, 0.05349655051707679, 0.07294984161419563, 0.7851537418572004, 0.09814421773215005, 0.09814421773215005, 0.23019069025641262, 0.4764145629187445, 0.1729293245209866, 0.12139409535910317, 0.8148468573241943, 0.2239866555862418, 0.37734115557568576, 0.18198915766382148, 0.21698707259917174, 0.24605573319652838, 0.22640271936293985, 0.2979396897172021, 0.2297437317146499, 0.0758158919816371, 0.03790794599081855, 0.7392049468209617, 0.1516317839632742, 0.19021334890187044, 0.7608533956074818, 0.6353406334997496, 0.1486365881296299, 0.11915161276695876, 0.09693690530193255, 0.11088071053810082, 0.7022445000746386, 0.11088071053810082, 0.05544035526905041, 0.8337909094734215, 0.087767464155097, 0.0438837320775485, 0.0438837320775485, 0.810422921065106, 0.057887351504650436, 0.057887351504650436, 0.057887351504650436, 0.22697003039943967, 0.19837180656911027, 0.40582241435419814, 0.16886570261718312, 0.5435908026871303, 0.25169785406111844, 0.12249933581681811, 0.08134721519085578, 0.8332055853380845, 0.046289199185449145, 0.046289199185449145, 0.046289199185449145, 0.2873789710160065, 0.2625437512985738, 0.2382153727998643, 0.2118596294262623, 0.13266315202579915, 0.17239475593200296, 0.3818274477087722, 0.31313891214211476, 0.10722171526288675, 0.24124885934149518, 0.14296228701718233, 0.5093031474987121, 0.3911182191525348, 0.24599846118840735, 0.21051463322225705, 0.1523984919059019, 0.18315739183453061, 0.14985604786461595, 0.14430582386963017, 0.5272712795236487, 0.2041438571207059, 0.3537037952251803, 0.24380817160583415, 0.19832157242564122, 0.22482288009828996, 0.32785345032720925, 0.28905798869780136, 0.1580438068017682, 0.8056746234888267, 0.10070932793610333, 0.05035466396805167, 0.05035466396805167, 0.2683087159064346, 0.19800161677753683, 0.28994166948455696, 0.2439716431310469, 0.7611451325640921, 0.7474692588470758, 0.09768064178115195, 0.09343365735588448, 0.06370476637901214, 0.18575526806170806, 0.7198016637391188, 0.023219408507713507, 0.046438817015427014, 0.07393104075041457, 0.07393104075041457, 0.7393104075041457, 0.12321840125069093, 0.16792491862598016, 0.11547038429627147, 0.4213964939104785, 0.29501275012279116, 0.21737741589290827, 0.21616976358239212, 0.30281881686192635, 0.2638720298477803, 0.19138680433244276, 0.765547217329771, 0.08536366910155586, 0.08536366910155586, 0.08536366910155586, 0.7255911873632248, 0.11325819000291111, 0.7928073300203777, 0.056629095001455555, 0.056629095001455555, 0.16459144201613748, 0.29045548591083087, 0.35141527925014104, 0.1936369906072206, 0.5936153743903495, 0.1614393163460241, 0.13837655686802067, 0.10628923933340717, 0.4824169309433346, 0.26065442482158185, 0.1274790668494398, 0.129443305167613, 0.14649331870692023, 0.8057132528880613, 0.29325979362851146, 0.2979719075147919, 0.24225809038877036, 0.16630990186872108, 0.06688583317775024, 0.869515831310753, 0.10943298923622632, 0.7660309246535844, 0.10943298923622632, 0.756046462799019, 0.18040151766102794, 0.5772848565152894, 0.09380878918373453, 0.14792924448204292, 0.8016914960914698, 0.08016914960914698, 0.08016914960914698, 0.08016914960914698, 0.14408422214067904, 0.10478852519322111, 0.5632383229135636, 0.18741024698018394, 0.08536284205738673, 0.7682655785164806, 0.05690856137159116, 0.05690856137159116, 0.483411526269448, 0.2111992105060695, 0.17156676606542437, 0.13402023975323424, 0.7466449966721331, 0.09189476882118561, 0.11486846102648202, 0.045947384410592804, 0.7578965022594627, 0.5922909547489811, 0.14982854191278572, 0.1529499698693021, 0.10534819353242747, 0.8752035607387874, 0.070016284859103, 0.0350081424295515, 0.0350081424295515, 0.06962873011967108, 0.06962873011967108, 0.8355447614360529, 0.06962873011967108, 0.13605497001417674, 0.13605497001417674, 0.8163298200850605, 0.1578726421453694, 0.19143239541579224, 0.4627464570668163, 0.18765101476560375, 0.10497514619181195, 0.8398011695344956, 0.10497514619181195], \"Term\": [\"abseiled\", \"accelerate_phasing\", \"accelerate_phasing\", \"accelerate_phasing\", \"accelerate_phasing\", \"according\", \"according\", \"according\", \"according\", \"across\", \"across\", \"across\", \"across\", \"action\", \"action\", \"action\", \"action\", \"action_tracker\", \"action_tracker\", \"action_tracker\", \"action_tracker\", \"adam_minter\", \"adam_minter\", \"adam_minter\", \"adam_minter\", \"administration\", \"administration\", \"administration\", \"administration\", \"agreement\", \"agreement\", \"agreement\", \"agreement\", \"albanese\", \"albanese\", \"albanese\", \"albanese\", \"albo\", \"albo\", \"albo\", \"already\", \"already\", \"already\", \"already\", \"american\", \"american\", \"american\", \"american\", \"amstrup\", \"amstrup\", \"amstrup\", \"amstrup\", \"angela_christofilou\", \"angela_christofilou\", \"angela_christofilou\", \"angela_christofilou\", \"angela_christofilou_independent\", \"angela_christofilou_independent\", \"angela_christofilou_independent\", \"angela_christofilou_independent\", \"angela_christofilou_independent_angela\", \"angela_christofilou_independent_angela\", \"angela_christofilou_independent_angela\", \"angela_christofilou_independent_angela\", \"appetiser\", \"arctic\", \"arctic\", \"arctic\", \"arctic\", \"area\", \"area\", \"area\", \"area\", \"around\", \"around\", \"around\", \"around\", \"asten\", \"atmospheric_river\", \"atmospheric_river\", \"atmospheric_river\", \"atmospheric_river\", \"attari\", \"attari\", \"attari\", \"attari\", \"australia\", \"australia\", \"australia\", \"australia\", \"australian\", \"australian\", \"australian\", \"australian\", \"author\", \"author\", \"author\", \"author\", \"average\", \"average\", \"average\", \"average\", \"baeconomics\", \"bandt\", \"bandt\", \"bandt\", \"bandt\", \"barilaro\", \"barilaro\", \"barilaro\", \"barilaro\", \"baywatch\", \"baywatch\", \"baywatch\", \"baywatch\", \"behavior\", \"behavior\", \"behavior\", \"behavior\", \"benson\", \"benson\", \"benson\", \"benson\", \"benwell\", \"biden\", \"biden\", \"biden\", \"biden\", \"bill\", \"bill\", \"bill\", \"bill\", \"blackburn\", \"blackburn\", \"blackburn\", \"blackburn\", \"blackrock\", \"blackrock\", \"blackrock\", \"blackrock\", \"bleating\", \"bloke\", \"bloke\", \"bramston\", \"bramston\", \"bramston\", \"bread\", \"bread\", \"bread\", \"bread\", \"brien\", \"brien\", \"brien\", \"brien\", \"bristlecone\", \"bristlecone\", \"bristlecone\", \"bristlecones\", \"bristlecones\", \"bristlecones\", \"bristlecones\", \"camargo\", \"camargo\", \"camargo\", \"camargo\", \"carbon\", \"carbon\", \"carbon\", \"carbon\", \"cervest\", \"cervest\", \"cervest\", \"change\", \"change\", \"change\", \"change\", \"changing\", \"changing\", \"changing\", \"changing\", \"chikarovski\", \"chikarovski\", \"child\", \"child\", \"child\", \"child\", \"china\", \"china\", \"china\", \"china\", \"choice\", \"choice\", \"choice\", \"choice\", \"chory\", \"chory\", \"chory\", \"chory\", \"chris_smith\", \"chris_smith\", \"chris_smith\", \"chris_smith\", \"christofilou_independent\", \"christofilou_independent\", \"christofilou_independent\", \"christofilou_independent\", \"chubb\", \"chubb\", \"chubb\", \"chubb\", \"city\", \"city\", \"city\", \"city\", \"clean\", \"clean\", \"clean\", \"clean\", \"clown\", \"clown\", \"clown\", \"coal\", \"coal\", \"coal\", \"coal\", \"coastal\", \"coastal\", \"coastal\", \"coastal\", \"combated\", \"combated\", \"come\", \"come\", \"come\", \"come\", \"commitment\", \"commitment\", \"commitment\", \"commitment\", \"company\", \"company\", \"company\", \"company\", \"condone\", \"corelogic\", \"corelogic\", \"corelogic\", \"cosying\", \"court\", \"court\", \"court\", \"court\", \"creighton\", \"crisafulli\", \"crisafulli\", \"crisafulli\", \"crisafulli\", \"crisis\", \"crisis\", \"crisis\", \"crisis\", \"crop\", \"crop\", \"crop\", \"crop\", \"cross_yuki_sugiura_british\", \"cross_yuki_sugiura_british\", \"cross_yuki_sugiura_british\", \"cross_yuki_sugiura_british\", \"crowe\", \"crowe\", \"crowe\", \"crowe\", \"csiro\", \"csiro\", \"csiro\", \"csiro\", \"curriculum\", \"curriculum\", \"curriculum\", \"curriculum\", \"cutthroat_trout\", \"cutthroat_trout\", \"cutthroat_trout\", \"cutthroat_trout\", \"data\", \"data\", \"data\", \"data\", \"death_certificate\", \"death_certificate\", \"death_certificate\", \"death_certificate\", \"decade\", \"decade\", \"decade\", \"decade\", \"deering\", \"deering\", \"deering\", \"deering\", \"democrat\", \"democrat\", \"democrat\", \"democrat\", \"demonise\", \"denicola\", \"denicola\", \"denicola\", \"denicola\", \"doorstop\", \"dublin\", \"dublin\", \"dublin\", \"dublin\", \"duluth\", \"duluth\", \"duluth\", \"duluth\", \"dunkirk\", \"dunkirk\", \"dutkiewicz\", \"dutkiewicz\", \"dutkiewicz\", \"dutkiewicz\", \"economy\", \"economy\", \"economy\", \"economy\", \"eden_monaro\", \"eden_monaro\", \"eden_monaro\", \"eden_monaro\", \"eel\", \"eel\", \"eel\", \"eel\", \"effect\", \"effect\", \"effect\", \"effect\", \"election\", \"election\", \"election\", \"election\", \"electric_rickshaw\", \"electric_rickshaw\", \"electric_rickshaw\", \"electric_rickshaw\", \"elsworth\", \"elsworth\", \"emanuel\", \"emanuel\", \"emanuel\", \"emanuel\", \"energy\", \"energy\", \"energy\", \"energy\", \"environmental\", \"environmental\", \"environmental\", \"environmental\", \"falinski\", \"federal\", \"federal\", \"federal\", \"federal\", \"feel\", \"feel\", \"feel\", \"feel\", \"feodoroff\", \"feodoroff\", \"feodoroff\", \"feodoroff\", \"ferorelli\", \"ferorelli\", \"ferorelli\", \"ferorelli\", \"fertilizer\", \"fertilizer\", \"fertilizer\", \"fertilizer\", \"fire\", \"fire\", \"fire\", \"fire\", \"first\", \"first\", \"first\", \"first\", \"fjord\", \"fjord\", \"fjord\", \"fjord\", \"flooding\", \"flooding\", \"flooding\", \"flooding\", \"food\", \"food\", \"food\", \"food\", \"found\", \"found\", \"found\", \"found\", \"future\", \"future\", \"future\", \"future\", \"gazard\", \"glacier\", \"glacier\", \"glacier\", \"glacier\", \"glasgow\", \"glasgow\", \"glasgow\", \"glasgow\", \"goal\", \"goal\", \"goal\", \"goal\", \"gohmert\", \"gohmert\", \"gohmert\", \"gohmert\", \"going\", \"going\", \"going\", \"going\", \"golan\", \"golan\", \"golan\", \"golan\", \"golan_boyd\", \"golan_boyd\", \"golan_boyd\", \"gomes\", \"gomes\", \"gomes\", \"govenrment\", \"greenland\", \"greenland\", \"greenland\", \"greenland\", \"group\", \"group\", \"group\", \"group\", \"guterres\", \"guterres\", \"guterres\", \"guterres\", \"gutless\", \"gutless\", \"halloran\", \"hardgrave\", \"hartl\", \"hartl\", \"hartl\", \"hartl\", \"help\", \"help\", \"help\", \"help\", \"hereafter\", \"home\", \"home\", \"home\", \"home\", \"hondros\", \"hondros\", \"hondros\", \"horsley\", \"horsley\", \"horsley\", \"horsley\", \"huey\", \"huey\", \"human\", \"human\", \"human\", \"human\", \"hurricane\", \"hurricane\", \"hurricane\", \"hurricane\", \"hydrogen\", \"hydrogen\", \"hydrogen\", \"hydrogen\", \"impact\", \"impact\", \"impact\", \"impact\", \"increase\", \"increase\", \"increase\", \"increase\", \"incurs\", \"incurs\", \"industry\", \"industry\", \"industry\", \"industry\", \"inpe\", \"inpe\", \"inpe\", \"inpe\", \"investor\", \"investor\", \"investor\", \"investor\", \"issue\", \"issue\", \"issue\", \"issue\", \"jade\", \"jade\", \"jade\", \"jade\", \"judge_barrett\", \"judge_barrett\", \"judge_barrett\", \"judge_barrett\", \"kallman\", \"kallman\", \"kallman\", \"kallman\", \"kernza\", \"kernza\", \"kernza\", \"kernza\", \"ketchell\", \"khorshid\", \"khorshid\", \"khorshid\", \"khoury\", \"khoury\", \"khoury\", \"khoury\", \"kind\", \"kind\", \"kind\", \"kind\", \"know\", \"know\", \"know\", \"know\", \"kossin\", \"kossin\", \"kossin\", \"kossin\", \"krawchuk\", \"krawchuk\", \"krawchuk\", \"kuperberg\", \"kuperberg\", \"kuperberg\", \"kuperberg\", \"kyoto_carryover\", \"kyoto_carryover\", \"kyoto_carryover\", \"kyoto_carryover\", \"labor\", \"labor\", \"labor\", \"labor\", \"lackenby\", \"lake\", \"lake\", \"lake\", \"lake\", \"lake_hopatcong\", \"lake_hopatcong\", \"lake_hopatcong\", \"lake_hopatcong\", \"lake_michigan\", \"lake_michigan\", \"lake_michigan\", \"lake_michigan\", \"last\", \"last\", \"last\", \"last\", \"latching\", \"le\", \"le\", \"le\", \"le\", \"leader\", \"leader\", \"leader\", \"leader\", \"leeser\", \"level\", \"level\", \"level\", \"level\", \"liao\", \"liao\", \"liao\", \"liao\", \"liberal\", \"liberal\", \"liberal\", \"liberal\", \"life\", \"life\", \"life\", \"life\", \"lifestyle\", \"lifestyle\", \"lifestyle\", \"lifestyle\", \"lizzo\", \"lizzo\", \"lizzo\", \"lobotomy\", \"longborn\", \"longborn\", \"loss\", \"loss\", \"loss\", \"loss\", \"lundstrom\", \"lundstrom\", \"lundstrom\", \"lundstrom\", \"macsween\", \"macsween\", \"macsween\", \"made\", \"made\", \"made\", \"made\", \"make\", \"make\", \"make\", \"make\", \"manning\", \"manning\", \"manning\", \"manning\", \"many\", \"many\", \"many\", \"many\", \"markson\", \"markson\", \"markson\", \"mediawatch\", \"mediawatch\", \"mediawatch\", \"melt\", \"melt\", \"melt\", \"melt\", \"mets_hallitus\", \"mets_hallitus\", \"mets_hallitus\", \"mets_hallitus\", \"model\", \"model\", \"model\", \"model\", \"molan\", \"molan\", \"molan\", \"molan\", \"much\", \"much\", \"much\", \"much\", \"mucilage\", \"mucilage\", \"mucilage\", \"mucilage\", \"mulholland\", \"mulholland\", \"mulholland\", \"mulholland\", \"naming_shaming\", \"naming_shaming\", \"naming_shaming\", \"naomi\", \"naomi\", \"naomi\", \"naomi\", \"nasr\", \"nasr\", \"nasr\", \"nation\", \"nation\", \"nation\", \"nation\", \"need\", \"need\", \"need\", \"need\", \"negotiator\", \"negotiator\", \"negotiator\", \"negotiator\", \"newspoll\", \"newspoll\", \"nonnative\", \"nonnative\", \"nonnative\", \"nonnative\", \"obsessing\", \"obsessing\", \"obsessing\", \"ocean\", \"ocean\", \"ocean\", \"ocean\", \"odor\", \"odor\", \"odor\", \"odor\", \"often\", \"often\", \"often\", \"often\", \"oriel\", \"oriel\", \"ostp\", \"ostp\", \"ostp\", \"ostp\", \"palaszczuk\", \"palaszczuk\", \"palaszczuk\", \"pamela_anderson\", \"pamela_anderson\", \"pamela_anderson\", \"pamela_anderson\", \"paris\", \"paris\", \"paris\", \"paris\", \"parliament\", \"parliament\", \"parliament\", \"parliament\", \"parrington\", \"parrington\", \"parrington\", \"parrington\", \"part\", \"part\", \"part\", \"part\", \"party\", \"party\", \"party\", \"party\", \"paterson\", \"paterson\", \"paterson\", \"paterson\", \"peat\", \"peat\", \"peat\", \"peat\", \"penniman\", \"penniman\", \"penniman\", \"penniman\", \"people\", \"people\", \"people\", \"people\", \"percent\", \"percent\", \"percent\", \"percent\", \"peregrine\", \"peregrine\", \"peregrine\", \"peregrine\", \"permeating\", \"plan\", \"plan\", \"plan\", \"plan\", \"planet\", \"planet\", \"planet\", \"planet\", \"plant\", \"plant\", \"plant\", \"plant\", \"pledge\", \"pledge\", \"pledge\", \"pledge\", \"polar_bear\", \"polar_bear\", \"polar_bear\", \"polar_bear\", \"policy\", \"policy\", \"policy\", \"policy\", \"pollen\", \"pollen\", \"pollen\", \"pollen\", \"pollen_season\", \"pollen_season\", \"pollen_season\", \"pollen_season\", \"polumbo\", \"polumbo\", \"pontificating\", \"power\", \"power\", \"power\", \"power\", \"prairie\", \"prairie\", \"prairie\", \"prairie\", \"president\", \"president\", \"president\", \"president\", \"price\", \"price\", \"price\", \"price\", \"prime_minister_morrison\", \"prime_minister_morrison\", \"prime_minister_morrison\", \"prime_minister_morrison\", \"prince_charles\", \"prince_charles\", \"prince_charles\", \"prince_charles\", \"professor_plimer\", \"professor_plimer\", \"professor_plimer\", \"prue\", \"prue\", \"public\", \"public\", \"public\", \"public\", \"ranchi\", \"ranchi\", \"ranchi\", \"ranchi\", \"rapid_intensification\", \"rapid_intensification\", \"rapid_intensification\", \"rapid_intensification\", \"rasmussen\", \"rasmussen\", \"rasmussen\", \"rasmussen\", \"raving\", \"raving\", \"reactor\", \"reactor\", \"reactor\", \"reactor\", \"really\", \"really\", \"really\", \"really\", \"record\", \"record\", \"record\", \"record\", \"rectified\", \"region\", \"region\", \"region\", \"region\", \"reignite\", \"republican\", \"republican\", \"republican\", \"republican\", \"research\", \"research\", \"research\", \"research\", \"researcher\", \"researcher\", \"researcher\", \"researcher\", \"rickshaw\", \"rickshaw\", \"rickshaw\", \"rickshaw\", \"rignot\", \"rignot\", \"rignot\", \"rignot\", \"rise\", \"rise\", \"rise\", \"rise\", \"risk\", \"risk\", \"risk\", \"risk\", \"saguaro\", \"saguaro\", \"saguaro\", \"saguaro\", \"scent\", \"scent\", \"scent\", \"scent\", \"science\", \"science\", \"science\", \"science\", \"scientist\", \"scientist\", \"scientist\", \"scientist\", \"season\", \"season\", \"season\", \"season\", \"seaweed\", \"seaweed\", \"seaweed\", \"seaweed\", \"seiler\", \"seiler\", \"seiler\", \"sellout\", \"senate\", \"senate\", \"senate\", \"senate\", \"senator_matt_canavan\", \"senator_matt_canavan\", \"senator_matt_canavan\", \"senator_matt_canavan\", \"shareholder\", \"shareholder\", \"shareholder\", \"shareholder\", \"shark\", \"shark\", \"shark\", \"shark\", \"sharri\", \"sharri\", \"sharri\", \"sheet\", \"sheet\", \"sheet\", \"sheet\", \"shoebridge\", \"shoebridge\", \"shoebridge\", \"siberian_arctic\", \"siberian_arctic\", \"siberian_arctic\", \"siberian_arctic\", \"since\", \"since\", \"since\", \"since\", \"snow\", \"snow\", \"snow\", \"snow\", \"snowfall\", \"snowfall\", \"snowfall\", \"snowfall\", \"snowiest\", \"snowiest\", \"snowiest\", \"soil\", \"soil\", \"soil\", \"soil\", \"solid_liquid\", \"something\", \"something\", \"something\", \"something\", \"state\", \"state\", \"state\", \"state\", \"steggall\", \"steggall\", \"steggall\", \"steggall\", \"stoker\", \"stoker\", \"storm\", \"storm\", \"storm\", \"storm\", \"stove\", \"stove\", \"stove\", \"stove\", \"stratification\", \"stratification\", \"stratification\", \"stratification\", \"sublette\", \"sublette\", \"sublette\", \"sublette\", \"support\", \"support\", \"support\", \"support\", \"surface\", \"surface\", \"surface\", \"surface\", \"surigae\", \"surigae\", \"surigae\", \"surigae\", \"take\", \"take\", \"take\", \"take\", \"target\", \"target\", \"target\", \"target\", \"teacher\", \"teacher\", \"teacher\", \"teacher\", \"temperature\", \"temperature\", \"temperature\", \"temperature\", \"text\", \"text\", \"text\", \"text\", \"thing\", \"thing\", \"thing\", \"thing\", \"think\", \"think\", \"think\", \"think\", \"thoman\", \"thoman\", \"thoman\", \"thoman\", \"told\", \"told\", \"told\", \"told\", \"trad\", \"tropical_cyclone\", \"tropical_cyclone\", \"tropical_cyclone\", \"tropical_cyclone\", \"trout\", \"trout\", \"trout\", \"trout\", \"trudeau\", \"trudeau\", \"trudeau\", \"trudeau\", \"trump\", \"trump\", \"trump\", \"trump\", \"united_state\", \"united_state\", \"united_state\", \"united_state\", \"unorthodoxy\", \"unorthodoxy\", \"valadao\", \"valadao\", \"valadao\", \"valadao\", \"vettel\", \"vettel\", \"vettel\", \"vettel\", \"want\", \"want\", \"want\", \"want\", \"warm\", \"warm\", \"warm\", \"warm\", \"water\", \"water\", \"water\", \"water\", \"weisser\", \"weisser\", \"well\", \"well\", \"well\", \"well\", \"westpac\", \"westpac\", \"westslope\", \"westslope\", \"westslope\", \"whacked\", \"wheat\", \"wheat\", \"wheat\", \"wheat\", \"whitby\", \"whitby\", \"whitby\", \"whitby\", \"white_house\", \"white_house\", \"white_house\", \"white_house\", \"white_shark\", \"white_shark\", \"white_shark\", \"white_shark\", \"wildfire\", \"wildfire\", \"wildfire\", \"wildfire\", \"wind_speed\", \"wind_speed\", \"wind_speed\", \"wind_speed\", \"wingrove\", \"winter\", \"winter\", \"winter\", \"winter\", \"woolf\", \"woolf\", \"woolf\", \"woolf\", \"zali_steggall\", \"zali_steggall\", \"zali_steggall\", \"zali_steggall\", \"zandi\", \"zandi\", \"zandi\", \"zero\", \"zero\", \"zero\", \"zero\", \"zukunft\", \"zukunft\", \"zukunft\"]}, \"R\": 30, \"lambda.step\": 0.01, \"plot.opts\": {\"xlab\": \"PC1\", \"ylab\": \"PC2\"}, \"topic.order\": [1, 4, 2, 3]};\n",
       "\n",
       "function LDAvis_load_lib(url, callback){\n",
       "  var s = document.createElement('script');\n",
       "  s.src = url;\n",
       "  s.async = true;\n",
       "  s.onreadystatechange = s.onload = callback;\n",
       "  s.onerror = function(){console.warn(\"failed to load library \" + url);};\n",
       "  document.getElementsByTagName(\"head\")[0].appendChild(s);\n",
       "}\n",
       "\n",
       "if(typeof(LDAvis) !== \"undefined\"){\n",
       "   // already loaded: just create the visualization\n",
       "   !function(LDAvis){\n",
       "       new LDAvis(\"#\" + \"ldavis_el1361226355791952807341103815\", ldavis_el1361226355791952807341103815_data);\n",
       "   }(LDAvis);\n",
       "}else if(typeof define === \"function\" && define.amd){\n",
       "   // require.js is available: use it to load d3/LDAvis\n",
       "   require.config({paths: {d3: \"https://d3js.org/d3.v5\"}});\n",
       "   require([\"d3\"], function(d3){\n",
       "      window.d3 = d3;\n",
       "      LDAvis_load_lib(\"https://cdn.jsdelivr.net/gh/bmabey/pyLDAvis@3.3.1/pyLDAvis/js/ldavis.v3.0.0.js\", function(){\n",
       "        new LDAvis(\"#\" + \"ldavis_el1361226355791952807341103815\", ldavis_el1361226355791952807341103815_data);\n",
       "      });\n",
       "    });\n",
       "}else{\n",
       "    // require.js not available: dynamically load d3 & LDAvis\n",
       "    LDAvis_load_lib(\"https://d3js.org/d3.v5.js\", function(){\n",
       "         LDAvis_load_lib(\"https://cdn.jsdelivr.net/gh/bmabey/pyLDAvis@3.3.1/pyLDAvis/js/ldavis.v3.0.0.js\", function(){\n",
       "                 new LDAvis(\"#\" + \"ldavis_el1361226355791952807341103815\", ldavis_el1361226355791952807341103815_data);\n",
       "            })\n",
       "         });\n",
       "}\n",
       "</script>"
      ],
      "text/plain": [
       "PreparedData(topic_coordinates=              x         y  topics  cluster       Freq\n",
       "topic                                                \n",
       "0      0.024327 -0.009232       1        1  30.265440\n",
       "3      0.011573  0.012641       2        1  25.676150\n",
       "1     -0.019532 -0.007113       3        1  25.338573\n",
       "2     -0.016368  0.003705       4        1  18.719838, topic_info=           Term          Freq         Total Category  logprob  loglift\n",
       "2530      biden   4323.000000   4323.000000  Default  30.0000  30.0000\n",
       "885      policy   5027.000000   5027.000000  Default  29.0000  29.0000\n",
       "181      people  10982.000000  10982.000000  Default  28.0000  28.0000\n",
       "518   president   3416.000000   3416.000000  Default  27.0000  27.0000\n",
       "972      carbon   6783.000000   6783.000000  Default  26.0000  26.0000\n",
       "...         ...           ...           ...      ...      ...      ...\n",
       "181      people   1222.146641  10982.214872   Topic4  -5.8278  -0.5201\n",
       "287     already    839.816480   3993.733812   Topic4  -6.2030   0.1163\n",
       "864        much    911.976270   5427.637181   Topic4  -6.1205  -0.1081\n",
       "972      carbon    927.704822   6783.012737   Topic4  -6.1034  -0.3139\n",
       "398        take    835.540079   3946.008979   Topic4  -6.2081   0.1232\n",
       "\n",
       "[426 rows x 6 columns], token_table=       Topic      Freq                Term\n",
       "term                                      \n",
       "54145      2  0.792600            abseiled\n",
       "42657      1  0.071813  accelerate_phasing\n",
       "42657      2  0.071813  accelerate_phasing\n",
       "42657      3  0.071813  accelerate_phasing\n",
       "42657      4  0.718126  accelerate_phasing\n",
       "...      ...       ...                 ...\n",
       "283        3  0.462746                zero\n",
       "283        4  0.187651                zero\n",
       "50106      1  0.104975             zukunft\n",
       "50106      3  0.839801             zukunft\n",
       "50106      4  0.104975             zukunft\n",
       "\n",
       "[1172 rows x 3 columns], R=30, lambda_step=0.01, plot_opts={'xlab': 'PC1', 'ylab': 'PC2'}, topic_order=[1, 4, 2, 3])"
      ]
     },
     "execution_count": 16,
     "metadata": {},
     "output_type": "execute_result"
    }
   ],
   "source": [
    "vis1"
   ]
  },
  {
   "cell_type": "markdown",
   "id": "77fbfe22",
   "metadata": {},
   "source": [
    "# Find the most dominant topic"
   ]
  },
  {
   "cell_type": "code",
   "execution_count": 8,
   "id": "ef1bbb05",
   "metadata": {
    "scrolled": true
   },
   "outputs": [
    {
     "ename": "NameError",
     "evalue": "name 'model_list' is not defined",
     "output_type": "error",
     "traceback": [
      "\u001b[1;31m---------------------------------------------------------------------------\u001b[0m",
      "\u001b[1;31mNameError\u001b[0m                                 Traceback (most recent call last)",
      "Cell \u001b[1;32mIn[8], line 26\u001b[0m\n\u001b[0;32m     22\u001b[0m     \u001b[38;5;28;01mreturn\u001b[39;00m(sent_topics_df)\n\u001b[0;32m     24\u001b[0m \u001b[38;5;66;03m#I choose model_list[5] where the number of topics is 6\u001b[39;00m\n\u001b[1;32m---> 26\u001b[0m df_topic_sents_keywords \u001b[38;5;241m=\u001b[39m format_topics_sentences(ldamodel\u001b[38;5;241m=\u001b[39m\u001b[43mmodel_list\u001b[49m[\u001b[38;5;241m0\u001b[39m], corpus\u001b[38;5;241m=\u001b[39mbow_corpus, data\u001b[38;5;241m=\u001b[39mdata_word_trigrams)\n\u001b[0;32m     28\u001b[0m \u001b[38;5;66;03m# Format\u001b[39;00m\n\u001b[0;32m     29\u001b[0m df_dominant_topic \u001b[38;5;241m=\u001b[39m df_topic_sents_keywords\u001b[38;5;241m.\u001b[39mreset_index()\n",
      "\u001b[1;31mNameError\u001b[0m: name 'model_list' is not defined"
     ]
    }
   ],
   "source": [
    "#Find most dominant topic\n",
    "def format_topics_sentences(ldamodel, corpus, data):\n",
    "    # Init output\n",
    "    sent_topics_df = pd.DataFrame()\n",
    "\n",
    "    # Get main topic in each document\n",
    "    for i, row in enumerate(ldamodel[corpus]):\n",
    "        row = sorted(row, key=lambda x: (x[1]), reverse=True)\n",
    "        # Get the Dominant topic, Perc Contribution and Keywords for each document\n",
    "        for j, (topic_num, prop_topic) in enumerate(row):\n",
    "            if j == 0:  # => dominant topic\n",
    "                wp = ldamodel.show_topic(topic_num)\n",
    "                topic_keywords = \", \".join([word for word, prop in wp])\n",
    "                sent_topics_df = sent_topics_df.append(pd.Series([int(topic_num), round(prop_topic,4), topic_keywords]), ignore_index=True)\n",
    "            else:\n",
    "                break\n",
    "    sent_topics_df.columns = ['Dominant_Topic', 'Perc_Contribution', 'Topic_Keywords']\n",
    "\n",
    "    # Add original text to the end of the output\n",
    "    contents = pd.Series(data)\n",
    "    sent_topics_df = pd.concat([sent_topics_df, contents], axis=1)\n",
    "    return(sent_topics_df)\n",
    "\n",
    "#I choose model_list[5] where the number of topics is 6\n",
    "\n",
    "df_topic_sents_keywords = format_topics_sentences(ldamodel=model_list[0], corpus=bow_corpus, data=data_word_trigrams)\n",
    "\n",
    "# Format\n",
    "df_dominant_topic = df_topic_sents_keywords.reset_index()\n",
    "df_dominant_topic.columns = ['Document_No', 'Dominant_Topic', 'Topic_Perc_Contrib', 'Keywords', 'Text']\n",
    "\n",
    "# Show\n",
    "df_dominant_topic.head(10)\n"
   ]
  },
  {
   "cell_type": "markdown",
   "id": "a71a3e6c",
   "metadata": {},
   "source": [
    "# Save LDA Model and theta + beta distributions"
   ]
  },
  {
   "cell_type": "code",
   "execution_count": 20,
   "id": "cebd3174",
   "metadata": {},
   "outputs": [],
   "source": [
    "#Save a model to disk, or reload a pre-trained model\n",
    "news_lda_sav=lda_model #Or you can save the second best model, model_list[8]\n",
    "\n",
    "news_lda_sav.save(\"climate_lda.gensim\")\n",
    "\n",
    "lda_disk=gensim.models.ldamodel.LdaModel.load(\"climate_lda.gensim\")"
   ]
  },
  {
   "cell_type": "code",
   "execution_count": 21,
   "id": "0012b00e",
   "metadata": {},
   "outputs": [],
   "source": [
    "# Saves the document topic probabilities (\"theta)\n",
    "vec=news_lda_sav[bow_corpus]\n",
    "pd.DataFrame(vec).to_csv(\"doc_topic_mixture.csv\")"
   ]
  },
  {
   "cell_type": "code",
   "execution_count": null,
   "id": "2b236aed",
   "metadata": {},
   "outputs": [],
   "source": [
    "# Write code here to save top 10 words for each topic (beta)\n",
    "top_words_per_topic = []\n",
    "for t in range(news_lda_sav.num_topics):\n",
    "    top_words_per_topic.extend([(t, ) + x for x in news_lda_sav.show_topic(t, topn = 10)])\n",
    "\n",
    "pd.DataFrame(top_words_per_topic, columns=['Topic', 'Word', 'P']).to_csv(\"top_words.csv\")\n"
   ]
  }
 ],
 "metadata": {
  "kernelspec": {
   "display_name": "Python 3 (ipykernel)",
   "language": "python",
   "name": "python3"
  },
  "language_info": {
   "codemirror_mode": {
    "name": "ipython",
    "version": 3
   },
   "file_extension": ".py",
   "mimetype": "text/x-python",
   "name": "python",
   "nbconvert_exporter": "python",
   "pygments_lexer": "ipython3",
   "version": "3.8.16"
  }
 },
 "nbformat": 4,
 "nbformat_minor": 5
}
